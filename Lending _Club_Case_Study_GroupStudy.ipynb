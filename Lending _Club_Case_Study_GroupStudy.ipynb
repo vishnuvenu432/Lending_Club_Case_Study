{
 "cells": [
  {
   "cell_type": "markdown",
   "id": "480c1018",
   "metadata": {},
   "source": [
    "# Lending Club Case Study\n",
    "\n",
    "#### Introduction\n",
    "The platform Lending Club, which links borrowers and investors looking to profit from personal loans, is the subject of the case study. The challenge for the business is deciding whether to approve or deny loan applications based on the profile of the applicant. Accepting a loan from a high-risk borrower who will probably default carries a higher risk of financial loss than accepting a loan from a potential borrower who would almost certainly repay.\n",
    "\n",
    "#### Key Objective\n",
    "Finding the driving forces, or driver variables, behind loan defaults, which are reliable predictors of future defaults, is the study's main goal. The business will be able to manage its portfolio and evaluate risk properly thanks to this insight.\n",
    "\n",
    "#### Approach\n",
    "The study uses a systematic strategy to determine the factors that affect loan default, which involves data interpretation, data validation and preparation, and data visualisation. The report offers suggestions for the business to better evaluate and manage risk in its loan portfolio based on these findings."
   ]
  },
  {
   "cell_type": "markdown",
   "id": "61460d5a",
   "metadata": {},
   "source": [
    "## Data Importing and Data Understanding"
   ]
  },
  {
   "cell_type": "code",
   "execution_count": 2,
   "id": "a25f7dff",
   "metadata": {},
   "outputs": [],
   "source": [
    "# Importing required libraries\n",
    "import numpy as np              \n",
    "import pandas as pd        \n",
    "import matplotlib.pyplot as plt\n",
    "import seaborn as sns\n",
    "import warnings\n",
    "warnings.filterwarnings('ignore')"
   ]
  },
  {
   "cell_type": "code",
   "execution_count": 3,
   "id": "d8cb524c",
   "metadata": {},
   "outputs": [
    {
     "data": {
      "text/html": [
       "<div>\n",
       "<style scoped>\n",
       "    .dataframe tbody tr th:only-of-type {\n",
       "        vertical-align: middle;\n",
       "    }\n",
       "\n",
       "    .dataframe tbody tr th {\n",
       "        vertical-align: top;\n",
       "    }\n",
       "\n",
       "    .dataframe thead th {\n",
       "        text-align: right;\n",
       "    }\n",
       "</style>\n",
       "<table border=\"1\" class=\"dataframe\">\n",
       "  <thead>\n",
       "    <tr style=\"text-align: right;\">\n",
       "      <th></th>\n",
       "      <th>id</th>\n",
       "      <th>member_id</th>\n",
       "      <th>loan_amnt</th>\n",
       "      <th>funded_amnt</th>\n",
       "      <th>funded_amnt_inv</th>\n",
       "      <th>term</th>\n",
       "      <th>int_rate</th>\n",
       "      <th>installment</th>\n",
       "      <th>grade</th>\n",
       "      <th>sub_grade</th>\n",
       "      <th>...</th>\n",
       "      <th>num_tl_90g_dpd_24m</th>\n",
       "      <th>num_tl_op_past_12m</th>\n",
       "      <th>pct_tl_nvr_dlq</th>\n",
       "      <th>percent_bc_gt_75</th>\n",
       "      <th>pub_rec_bankruptcies</th>\n",
       "      <th>tax_liens</th>\n",
       "      <th>tot_hi_cred_lim</th>\n",
       "      <th>total_bal_ex_mort</th>\n",
       "      <th>total_bc_limit</th>\n",
       "      <th>total_il_high_credit_limit</th>\n",
       "    </tr>\n",
       "  </thead>\n",
       "  <tbody>\n",
       "    <tr>\n",
       "      <th>0</th>\n",
       "      <td>1077501</td>\n",
       "      <td>1296599</td>\n",
       "      <td>5000</td>\n",
       "      <td>5000</td>\n",
       "      <td>4975.0</td>\n",
       "      <td>36 months</td>\n",
       "      <td>10.65%</td>\n",
       "      <td>162.87</td>\n",
       "      <td>B</td>\n",
       "      <td>B2</td>\n",
       "      <td>...</td>\n",
       "      <td>NaN</td>\n",
       "      <td>NaN</td>\n",
       "      <td>NaN</td>\n",
       "      <td>NaN</td>\n",
       "      <td>0.0</td>\n",
       "      <td>0.0</td>\n",
       "      <td>NaN</td>\n",
       "      <td>NaN</td>\n",
       "      <td>NaN</td>\n",
       "      <td>NaN</td>\n",
       "    </tr>\n",
       "    <tr>\n",
       "      <th>1</th>\n",
       "      <td>1077430</td>\n",
       "      <td>1314167</td>\n",
       "      <td>2500</td>\n",
       "      <td>2500</td>\n",
       "      <td>2500.0</td>\n",
       "      <td>60 months</td>\n",
       "      <td>15.27%</td>\n",
       "      <td>59.83</td>\n",
       "      <td>C</td>\n",
       "      <td>C4</td>\n",
       "      <td>...</td>\n",
       "      <td>NaN</td>\n",
       "      <td>NaN</td>\n",
       "      <td>NaN</td>\n",
       "      <td>NaN</td>\n",
       "      <td>0.0</td>\n",
       "      <td>0.0</td>\n",
       "      <td>NaN</td>\n",
       "      <td>NaN</td>\n",
       "      <td>NaN</td>\n",
       "      <td>NaN</td>\n",
       "    </tr>\n",
       "    <tr>\n",
       "      <th>2</th>\n",
       "      <td>1077175</td>\n",
       "      <td>1313524</td>\n",
       "      <td>2400</td>\n",
       "      <td>2400</td>\n",
       "      <td>2400.0</td>\n",
       "      <td>36 months</td>\n",
       "      <td>15.96%</td>\n",
       "      <td>84.33</td>\n",
       "      <td>C</td>\n",
       "      <td>C5</td>\n",
       "      <td>...</td>\n",
       "      <td>NaN</td>\n",
       "      <td>NaN</td>\n",
       "      <td>NaN</td>\n",
       "      <td>NaN</td>\n",
       "      <td>0.0</td>\n",
       "      <td>0.0</td>\n",
       "      <td>NaN</td>\n",
       "      <td>NaN</td>\n",
       "      <td>NaN</td>\n",
       "      <td>NaN</td>\n",
       "    </tr>\n",
       "    <tr>\n",
       "      <th>3</th>\n",
       "      <td>1076863</td>\n",
       "      <td>1277178</td>\n",
       "      <td>10000</td>\n",
       "      <td>10000</td>\n",
       "      <td>10000.0</td>\n",
       "      <td>36 months</td>\n",
       "      <td>13.49%</td>\n",
       "      <td>339.31</td>\n",
       "      <td>C</td>\n",
       "      <td>C1</td>\n",
       "      <td>...</td>\n",
       "      <td>NaN</td>\n",
       "      <td>NaN</td>\n",
       "      <td>NaN</td>\n",
       "      <td>NaN</td>\n",
       "      <td>0.0</td>\n",
       "      <td>0.0</td>\n",
       "      <td>NaN</td>\n",
       "      <td>NaN</td>\n",
       "      <td>NaN</td>\n",
       "      <td>NaN</td>\n",
       "    </tr>\n",
       "    <tr>\n",
       "      <th>4</th>\n",
       "      <td>1075358</td>\n",
       "      <td>1311748</td>\n",
       "      <td>3000</td>\n",
       "      <td>3000</td>\n",
       "      <td>3000.0</td>\n",
       "      <td>60 months</td>\n",
       "      <td>12.69%</td>\n",
       "      <td>67.79</td>\n",
       "      <td>B</td>\n",
       "      <td>B5</td>\n",
       "      <td>...</td>\n",
       "      <td>NaN</td>\n",
       "      <td>NaN</td>\n",
       "      <td>NaN</td>\n",
       "      <td>NaN</td>\n",
       "      <td>0.0</td>\n",
       "      <td>0.0</td>\n",
       "      <td>NaN</td>\n",
       "      <td>NaN</td>\n",
       "      <td>NaN</td>\n",
       "      <td>NaN</td>\n",
       "    </tr>\n",
       "  </tbody>\n",
       "</table>\n",
       "<p>5 rows × 111 columns</p>\n",
       "</div>"
      ],
      "text/plain": [
       "        id  member_id  loan_amnt  funded_amnt  funded_amnt_inv        term  \\\n",
       "0  1077501    1296599       5000         5000           4975.0   36 months   \n",
       "1  1077430    1314167       2500         2500           2500.0   60 months   \n",
       "2  1077175    1313524       2400         2400           2400.0   36 months   \n",
       "3  1076863    1277178      10000        10000          10000.0   36 months   \n",
       "4  1075358    1311748       3000         3000           3000.0   60 months   \n",
       "\n",
       "  int_rate  installment grade sub_grade  ... num_tl_90g_dpd_24m  \\\n",
       "0   10.65%       162.87     B        B2  ...                NaN   \n",
       "1   15.27%        59.83     C        C4  ...                NaN   \n",
       "2   15.96%        84.33     C        C5  ...                NaN   \n",
       "3   13.49%       339.31     C        C1  ...                NaN   \n",
       "4   12.69%        67.79     B        B5  ...                NaN   \n",
       "\n",
       "  num_tl_op_past_12m pct_tl_nvr_dlq  percent_bc_gt_75 pub_rec_bankruptcies  \\\n",
       "0                NaN            NaN               NaN                  0.0   \n",
       "1                NaN            NaN               NaN                  0.0   \n",
       "2                NaN            NaN               NaN                  0.0   \n",
       "3                NaN            NaN               NaN                  0.0   \n",
       "4                NaN            NaN               NaN                  0.0   \n",
       "\n",
       "  tax_liens tot_hi_cred_lim total_bal_ex_mort total_bc_limit  \\\n",
       "0       0.0             NaN               NaN            NaN   \n",
       "1       0.0             NaN               NaN            NaN   \n",
       "2       0.0             NaN               NaN            NaN   \n",
       "3       0.0             NaN               NaN            NaN   \n",
       "4       0.0             NaN               NaN            NaN   \n",
       "\n",
       "  total_il_high_credit_limit  \n",
       "0                        NaN  \n",
       "1                        NaN  \n",
       "2                        NaN  \n",
       "3                        NaN  \n",
       "4                        NaN  \n",
       "\n",
       "[5 rows x 111 columns]"
      ]
     },
     "execution_count": 3,
     "metadata": {},
     "output_type": "execute_result"
    }
   ],
   "source": [
    "#import the CSV File\n",
    "ld = pd.read_csv(\"loan.csv\")\n",
    "ld.head()"
   ]
  },
  {
   "cell_type": "markdown",
   "id": "4ba4320b",
   "metadata": {},
   "source": [
    "## Data Information"
   ]
  },
  {
   "cell_type": "code",
   "execution_count": 4,
   "id": "b17b4fe7",
   "metadata": {},
   "outputs": [
    {
     "name": "stdout",
     "output_type": "stream",
     "text": [
      "<class 'pandas.core.frame.DataFrame'>\n",
      "RangeIndex: 39717 entries, 0 to 39716\n",
      "Columns: 111 entries, id to total_il_high_credit_limit\n",
      "dtypes: float64(74), int64(13), object(24)\n",
      "memory usage: 33.6+ MB\n"
     ]
    }
   ],
   "source": [
    "ld.info()"
   ]
  },
  {
   "cell_type": "code",
   "execution_count": 5,
   "id": "77ac6690",
   "metadata": {},
   "outputs": [
    {
     "data": {
      "text/plain": [
       "Index(['id', 'member_id', 'loan_amnt', 'funded_amnt', 'funded_amnt_inv',\n",
       "       'term', 'int_rate', 'installment', 'grade', 'sub_grade',\n",
       "       ...\n",
       "       'num_tl_90g_dpd_24m', 'num_tl_op_past_12m', 'pct_tl_nvr_dlq',\n",
       "       'percent_bc_gt_75', 'pub_rec_bankruptcies', 'tax_liens',\n",
       "       'tot_hi_cred_lim', 'total_bal_ex_mort', 'total_bc_limit',\n",
       "       'total_il_high_credit_limit'],\n",
       "      dtype='object', length=111)"
      ]
     },
     "execution_count": 5,
     "metadata": {},
     "output_type": "execute_result"
    }
   ],
   "source": [
    "# Columns in loan data\n",
    "ld.columns"
   ]
  },
  {
   "cell_type": "code",
   "execution_count": 6,
   "id": "89a99e3d",
   "metadata": {},
   "outputs": [
    {
     "data": {
      "text/plain": [
       "id                              int64\n",
       "member_id                       int64\n",
       "loan_amnt                       int64\n",
       "funded_amnt                     int64\n",
       "funded_amnt_inv               float64\n",
       "                               ...   \n",
       "tax_liens                     float64\n",
       "tot_hi_cred_lim               float64\n",
       "total_bal_ex_mort             float64\n",
       "total_bc_limit                float64\n",
       "total_il_high_credit_limit    float64\n",
       "Length: 111, dtype: object"
      ]
     },
     "execution_count": 6,
     "metadata": {},
     "output_type": "execute_result"
    }
   ],
   "source": [
    "ld.dtypes"
   ]
  },
  {
   "cell_type": "code",
   "execution_count": 7,
   "id": "e5d43ad7",
   "metadata": {},
   "outputs": [
    {
     "data": {
      "text/html": [
       "<div>\n",
       "<style scoped>\n",
       "    .dataframe tbody tr th:only-of-type {\n",
       "        vertical-align: middle;\n",
       "    }\n",
       "\n",
       "    .dataframe tbody tr th {\n",
       "        vertical-align: top;\n",
       "    }\n",
       "\n",
       "    .dataframe thead th {\n",
       "        text-align: right;\n",
       "    }\n",
       "</style>\n",
       "<table border=\"1\" class=\"dataframe\">\n",
       "  <thead>\n",
       "    <tr style=\"text-align: right;\">\n",
       "      <th></th>\n",
       "      <th>id</th>\n",
       "      <th>member_id</th>\n",
       "      <th>loan_amnt</th>\n",
       "      <th>funded_amnt</th>\n",
       "      <th>funded_amnt_inv</th>\n",
       "      <th>installment</th>\n",
       "      <th>annual_inc</th>\n",
       "      <th>dti</th>\n",
       "      <th>delinq_2yrs</th>\n",
       "      <th>inq_last_6mths</th>\n",
       "      <th>...</th>\n",
       "      <th>num_tl_90g_dpd_24m</th>\n",
       "      <th>num_tl_op_past_12m</th>\n",
       "      <th>pct_tl_nvr_dlq</th>\n",
       "      <th>percent_bc_gt_75</th>\n",
       "      <th>pub_rec_bankruptcies</th>\n",
       "      <th>tax_liens</th>\n",
       "      <th>tot_hi_cred_lim</th>\n",
       "      <th>total_bal_ex_mort</th>\n",
       "      <th>total_bc_limit</th>\n",
       "      <th>total_il_high_credit_limit</th>\n",
       "    </tr>\n",
       "  </thead>\n",
       "  <tbody>\n",
       "    <tr>\n",
       "      <th>count</th>\n",
       "      <td>3.971700e+04</td>\n",
       "      <td>3.971700e+04</td>\n",
       "      <td>39717.000000</td>\n",
       "      <td>39717.000000</td>\n",
       "      <td>39717.000000</td>\n",
       "      <td>39717.000000</td>\n",
       "      <td>3.971700e+04</td>\n",
       "      <td>39717.000000</td>\n",
       "      <td>39717.000000</td>\n",
       "      <td>39717.000000</td>\n",
       "      <td>...</td>\n",
       "      <td>0.0</td>\n",
       "      <td>0.0</td>\n",
       "      <td>0.0</td>\n",
       "      <td>0.0</td>\n",
       "      <td>39020.000000</td>\n",
       "      <td>39678.0</td>\n",
       "      <td>0.0</td>\n",
       "      <td>0.0</td>\n",
       "      <td>0.0</td>\n",
       "      <td>0.0</td>\n",
       "    </tr>\n",
       "    <tr>\n",
       "      <th>mean</th>\n",
       "      <td>6.831319e+05</td>\n",
       "      <td>8.504636e+05</td>\n",
       "      <td>11219.443815</td>\n",
       "      <td>10947.713196</td>\n",
       "      <td>10397.448868</td>\n",
       "      <td>324.561922</td>\n",
       "      <td>6.896893e+04</td>\n",
       "      <td>13.315130</td>\n",
       "      <td>0.146512</td>\n",
       "      <td>0.869200</td>\n",
       "      <td>...</td>\n",
       "      <td>NaN</td>\n",
       "      <td>NaN</td>\n",
       "      <td>NaN</td>\n",
       "      <td>NaN</td>\n",
       "      <td>0.043260</td>\n",
       "      <td>0.0</td>\n",
       "      <td>NaN</td>\n",
       "      <td>NaN</td>\n",
       "      <td>NaN</td>\n",
       "      <td>NaN</td>\n",
       "    </tr>\n",
       "    <tr>\n",
       "      <th>std</th>\n",
       "      <td>2.106941e+05</td>\n",
       "      <td>2.656783e+05</td>\n",
       "      <td>7456.670694</td>\n",
       "      <td>7187.238670</td>\n",
       "      <td>7128.450439</td>\n",
       "      <td>208.874874</td>\n",
       "      <td>6.379377e+04</td>\n",
       "      <td>6.678594</td>\n",
       "      <td>0.491812</td>\n",
       "      <td>1.070219</td>\n",
       "      <td>...</td>\n",
       "      <td>NaN</td>\n",
       "      <td>NaN</td>\n",
       "      <td>NaN</td>\n",
       "      <td>NaN</td>\n",
       "      <td>0.204324</td>\n",
       "      <td>0.0</td>\n",
       "      <td>NaN</td>\n",
       "      <td>NaN</td>\n",
       "      <td>NaN</td>\n",
       "      <td>NaN</td>\n",
       "    </tr>\n",
       "    <tr>\n",
       "      <th>min</th>\n",
       "      <td>5.473400e+04</td>\n",
       "      <td>7.069900e+04</td>\n",
       "      <td>500.000000</td>\n",
       "      <td>500.000000</td>\n",
       "      <td>0.000000</td>\n",
       "      <td>15.690000</td>\n",
       "      <td>4.000000e+03</td>\n",
       "      <td>0.000000</td>\n",
       "      <td>0.000000</td>\n",
       "      <td>0.000000</td>\n",
       "      <td>...</td>\n",
       "      <td>NaN</td>\n",
       "      <td>NaN</td>\n",
       "      <td>NaN</td>\n",
       "      <td>NaN</td>\n",
       "      <td>0.000000</td>\n",
       "      <td>0.0</td>\n",
       "      <td>NaN</td>\n",
       "      <td>NaN</td>\n",
       "      <td>NaN</td>\n",
       "      <td>NaN</td>\n",
       "    </tr>\n",
       "    <tr>\n",
       "      <th>25%</th>\n",
       "      <td>5.162210e+05</td>\n",
       "      <td>6.667800e+05</td>\n",
       "      <td>5500.000000</td>\n",
       "      <td>5400.000000</td>\n",
       "      <td>5000.000000</td>\n",
       "      <td>167.020000</td>\n",
       "      <td>4.040400e+04</td>\n",
       "      <td>8.170000</td>\n",
       "      <td>0.000000</td>\n",
       "      <td>0.000000</td>\n",
       "      <td>...</td>\n",
       "      <td>NaN</td>\n",
       "      <td>NaN</td>\n",
       "      <td>NaN</td>\n",
       "      <td>NaN</td>\n",
       "      <td>0.000000</td>\n",
       "      <td>0.0</td>\n",
       "      <td>NaN</td>\n",
       "      <td>NaN</td>\n",
       "      <td>NaN</td>\n",
       "      <td>NaN</td>\n",
       "    </tr>\n",
       "    <tr>\n",
       "      <th>50%</th>\n",
       "      <td>6.656650e+05</td>\n",
       "      <td>8.508120e+05</td>\n",
       "      <td>10000.000000</td>\n",
       "      <td>9600.000000</td>\n",
       "      <td>8975.000000</td>\n",
       "      <td>280.220000</td>\n",
       "      <td>5.900000e+04</td>\n",
       "      <td>13.400000</td>\n",
       "      <td>0.000000</td>\n",
       "      <td>1.000000</td>\n",
       "      <td>...</td>\n",
       "      <td>NaN</td>\n",
       "      <td>NaN</td>\n",
       "      <td>NaN</td>\n",
       "      <td>NaN</td>\n",
       "      <td>0.000000</td>\n",
       "      <td>0.0</td>\n",
       "      <td>NaN</td>\n",
       "      <td>NaN</td>\n",
       "      <td>NaN</td>\n",
       "      <td>NaN</td>\n",
       "    </tr>\n",
       "    <tr>\n",
       "      <th>75%</th>\n",
       "      <td>8.377550e+05</td>\n",
       "      <td>1.047339e+06</td>\n",
       "      <td>15000.000000</td>\n",
       "      <td>15000.000000</td>\n",
       "      <td>14400.000000</td>\n",
       "      <td>430.780000</td>\n",
       "      <td>8.230000e+04</td>\n",
       "      <td>18.600000</td>\n",
       "      <td>0.000000</td>\n",
       "      <td>1.000000</td>\n",
       "      <td>...</td>\n",
       "      <td>NaN</td>\n",
       "      <td>NaN</td>\n",
       "      <td>NaN</td>\n",
       "      <td>NaN</td>\n",
       "      <td>0.000000</td>\n",
       "      <td>0.0</td>\n",
       "      <td>NaN</td>\n",
       "      <td>NaN</td>\n",
       "      <td>NaN</td>\n",
       "      <td>NaN</td>\n",
       "    </tr>\n",
       "    <tr>\n",
       "      <th>max</th>\n",
       "      <td>1.077501e+06</td>\n",
       "      <td>1.314167e+06</td>\n",
       "      <td>35000.000000</td>\n",
       "      <td>35000.000000</td>\n",
       "      <td>35000.000000</td>\n",
       "      <td>1305.190000</td>\n",
       "      <td>6.000000e+06</td>\n",
       "      <td>29.990000</td>\n",
       "      <td>11.000000</td>\n",
       "      <td>8.000000</td>\n",
       "      <td>...</td>\n",
       "      <td>NaN</td>\n",
       "      <td>NaN</td>\n",
       "      <td>NaN</td>\n",
       "      <td>NaN</td>\n",
       "      <td>2.000000</td>\n",
       "      <td>0.0</td>\n",
       "      <td>NaN</td>\n",
       "      <td>NaN</td>\n",
       "      <td>NaN</td>\n",
       "      <td>NaN</td>\n",
       "    </tr>\n",
       "  </tbody>\n",
       "</table>\n",
       "<p>8 rows × 87 columns</p>\n",
       "</div>"
      ],
      "text/plain": [
       "                 id     member_id     loan_amnt   funded_amnt  \\\n",
       "count  3.971700e+04  3.971700e+04  39717.000000  39717.000000   \n",
       "mean   6.831319e+05  8.504636e+05  11219.443815  10947.713196   \n",
       "std    2.106941e+05  2.656783e+05   7456.670694   7187.238670   \n",
       "min    5.473400e+04  7.069900e+04    500.000000    500.000000   \n",
       "25%    5.162210e+05  6.667800e+05   5500.000000   5400.000000   \n",
       "50%    6.656650e+05  8.508120e+05  10000.000000   9600.000000   \n",
       "75%    8.377550e+05  1.047339e+06  15000.000000  15000.000000   \n",
       "max    1.077501e+06  1.314167e+06  35000.000000  35000.000000   \n",
       "\n",
       "       funded_amnt_inv   installment    annual_inc           dti  \\\n",
       "count     39717.000000  39717.000000  3.971700e+04  39717.000000   \n",
       "mean      10397.448868    324.561922  6.896893e+04     13.315130   \n",
       "std        7128.450439    208.874874  6.379377e+04      6.678594   \n",
       "min           0.000000     15.690000  4.000000e+03      0.000000   \n",
       "25%        5000.000000    167.020000  4.040400e+04      8.170000   \n",
       "50%        8975.000000    280.220000  5.900000e+04     13.400000   \n",
       "75%       14400.000000    430.780000  8.230000e+04     18.600000   \n",
       "max       35000.000000   1305.190000  6.000000e+06     29.990000   \n",
       "\n",
       "        delinq_2yrs  inq_last_6mths  ...  num_tl_90g_dpd_24m  \\\n",
       "count  39717.000000    39717.000000  ...                 0.0   \n",
       "mean       0.146512        0.869200  ...                 NaN   \n",
       "std        0.491812        1.070219  ...                 NaN   \n",
       "min        0.000000        0.000000  ...                 NaN   \n",
       "25%        0.000000        0.000000  ...                 NaN   \n",
       "50%        0.000000        1.000000  ...                 NaN   \n",
       "75%        0.000000        1.000000  ...                 NaN   \n",
       "max       11.000000        8.000000  ...                 NaN   \n",
       "\n",
       "       num_tl_op_past_12m  pct_tl_nvr_dlq  percent_bc_gt_75  \\\n",
       "count                 0.0             0.0               0.0   \n",
       "mean                  NaN             NaN               NaN   \n",
       "std                   NaN             NaN               NaN   \n",
       "min                   NaN             NaN               NaN   \n",
       "25%                   NaN             NaN               NaN   \n",
       "50%                   NaN             NaN               NaN   \n",
       "75%                   NaN             NaN               NaN   \n",
       "max                   NaN             NaN               NaN   \n",
       "\n",
       "       pub_rec_bankruptcies  tax_liens  tot_hi_cred_lim  total_bal_ex_mort  \\\n",
       "count          39020.000000    39678.0              0.0                0.0   \n",
       "mean               0.043260        0.0              NaN                NaN   \n",
       "std                0.204324        0.0              NaN                NaN   \n",
       "min                0.000000        0.0              NaN                NaN   \n",
       "25%                0.000000        0.0              NaN                NaN   \n",
       "50%                0.000000        0.0              NaN                NaN   \n",
       "75%                0.000000        0.0              NaN                NaN   \n",
       "max                2.000000        0.0              NaN                NaN   \n",
       "\n",
       "       total_bc_limit  total_il_high_credit_limit  \n",
       "count             0.0                         0.0  \n",
       "mean              NaN                         NaN  \n",
       "std               NaN                         NaN  \n",
       "min               NaN                         NaN  \n",
       "25%               NaN                         NaN  \n",
       "50%               NaN                         NaN  \n",
       "75%               NaN                         NaN  \n",
       "max               NaN                         NaN  \n",
       "\n",
       "[8 rows x 87 columns]"
      ]
     },
     "execution_count": 7,
     "metadata": {},
     "output_type": "execute_result"
    }
   ],
   "source": [
    "ld.describe()"
   ]
  },
  {
   "cell_type": "markdown",
   "id": "3cb96daa",
   "metadata": {},
   "source": [
    "## Data Validation and preparation"
   ]
  },
  {
   "cell_type": "code",
   "execution_count": 8,
   "id": "e4592c5a",
   "metadata": {},
   "outputs": [
    {
     "data": {
      "text/plain": [
       "id                                0\n",
       "member_id                         0\n",
       "loan_amnt                         0\n",
       "funded_amnt                       0\n",
       "funded_amnt_inv                   0\n",
       "                              ...  \n",
       "tax_liens                        39\n",
       "tot_hi_cred_lim               39717\n",
       "total_bal_ex_mort             39717\n",
       "total_bc_limit                39717\n",
       "total_il_high_credit_limit    39717\n",
       "Length: 111, dtype: int64"
      ]
     },
     "execution_count": 8,
     "metadata": {},
     "output_type": "execute_result"
    }
   ],
   "source": [
    "#Checking for null values\n",
    "ld.isnull().sum()"
   ]
  },
  {
   "cell_type": "code",
   "execution_count": 9,
   "id": "08e44aff",
   "metadata": {},
   "outputs": [
    {
     "data": {
      "text/plain": [
       "Index(['mths_since_last_major_derog', 'annual_inc_joint', 'dti_joint',\n",
       "       'verification_status_joint', 'tot_coll_amt', 'tot_cur_bal',\n",
       "       'open_acc_6m', 'open_il_6m', 'open_il_12m', 'open_il_24m',\n",
       "       'mths_since_rcnt_il', 'total_bal_il', 'il_util', 'open_rv_12m',\n",
       "       'open_rv_24m', 'max_bal_bc', 'all_util', 'total_rev_hi_lim', 'inq_fi',\n",
       "       'total_cu_tl', 'inq_last_12m', 'acc_open_past_24mths', 'avg_cur_bal',\n",
       "       'bc_open_to_buy', 'bc_util', 'mo_sin_old_il_acct',\n",
       "       'mo_sin_old_rev_tl_op', 'mo_sin_rcnt_rev_tl_op', 'mo_sin_rcnt_tl',\n",
       "       'mort_acc', 'mths_since_recent_bc', 'mths_since_recent_bc_dlq',\n",
       "       'mths_since_recent_inq', 'mths_since_recent_revol_delinq',\n",
       "       'num_accts_ever_120_pd', 'num_actv_bc_tl', 'num_actv_rev_tl',\n",
       "       'num_bc_sats', 'num_bc_tl', 'num_il_tl', 'num_op_rev_tl',\n",
       "       'num_rev_accts', 'num_rev_tl_bal_gt_0', 'num_sats', 'num_tl_120dpd_2m',\n",
       "       'num_tl_30dpd', 'num_tl_90g_dpd_24m', 'num_tl_op_past_12m',\n",
       "       'pct_tl_nvr_dlq', 'percent_bc_gt_75', 'tot_hi_cred_lim',\n",
       "       'total_bal_ex_mort', 'total_bc_limit', 'total_il_high_credit_limit'],\n",
       "      dtype='object')"
      ]
     },
     "execution_count": 9,
     "metadata": {},
     "output_type": "execute_result"
    }
   ],
   "source": [
    "ld.columns[ld.isnull().all()]"
   ]
  },
  {
   "cell_type": "code",
   "execution_count": 10,
   "id": "fb3ffdc1",
   "metadata": {},
   "outputs": [],
   "source": [
    "#Droping the columns with null values\n",
    "ld.dropna(axis=1, how='all', inplace=True)"
   ]
  },
  {
   "cell_type": "code",
   "execution_count": 11,
   "id": "332356ff",
   "metadata": {},
   "outputs": [
    {
     "name": "stdout",
     "output_type": "stream",
     "text": [
      "<class 'pandas.core.frame.DataFrame'>\n",
      "RangeIndex: 39717 entries, 0 to 39716\n",
      "Data columns (total 57 columns):\n",
      " #   Column                      Non-Null Count  Dtype  \n",
      "---  ------                      --------------  -----  \n",
      " 0   id                          39717 non-null  int64  \n",
      " 1   member_id                   39717 non-null  int64  \n",
      " 2   loan_amnt                   39717 non-null  int64  \n",
      " 3   funded_amnt                 39717 non-null  int64  \n",
      " 4   funded_amnt_inv             39717 non-null  float64\n",
      " 5   term                        39717 non-null  object \n",
      " 6   int_rate                    39717 non-null  object \n",
      " 7   installment                 39717 non-null  float64\n",
      " 8   grade                       39717 non-null  object \n",
      " 9   sub_grade                   39717 non-null  object \n",
      " 10  emp_title                   37258 non-null  object \n",
      " 11  emp_length                  38642 non-null  object \n",
      " 12  home_ownership              39717 non-null  object \n",
      " 13  annual_inc                  39717 non-null  float64\n",
      " 14  verification_status         39717 non-null  object \n",
      " 15  issue_d                     39717 non-null  object \n",
      " 16  loan_status                 39717 non-null  object \n",
      " 17  pymnt_plan                  39717 non-null  object \n",
      " 18  url                         39717 non-null  object \n",
      " 19  desc                        26777 non-null  object \n",
      " 20  purpose                     39717 non-null  object \n",
      " 21  title                       39706 non-null  object \n",
      " 22  zip_code                    39717 non-null  object \n",
      " 23  addr_state                  39717 non-null  object \n",
      " 24  dti                         39717 non-null  float64\n",
      " 25  delinq_2yrs                 39717 non-null  int64  \n",
      " 26  earliest_cr_line            39717 non-null  object \n",
      " 27  inq_last_6mths              39717 non-null  int64  \n",
      " 28  mths_since_last_delinq      14035 non-null  float64\n",
      " 29  mths_since_last_record      2786 non-null   float64\n",
      " 30  open_acc                    39717 non-null  int64  \n",
      " 31  pub_rec                     39717 non-null  int64  \n",
      " 32  revol_bal                   39717 non-null  int64  \n",
      " 33  revol_util                  39667 non-null  object \n",
      " 34  total_acc                   39717 non-null  int64  \n",
      " 35  initial_list_status         39717 non-null  object \n",
      " 36  out_prncp                   39717 non-null  float64\n",
      " 37  out_prncp_inv               39717 non-null  float64\n",
      " 38  total_pymnt                 39717 non-null  float64\n",
      " 39  total_pymnt_inv             39717 non-null  float64\n",
      " 40  total_rec_prncp             39717 non-null  float64\n",
      " 41  total_rec_int               39717 non-null  float64\n",
      " 42  total_rec_late_fee          39717 non-null  float64\n",
      " 43  recoveries                  39717 non-null  float64\n",
      " 44  collection_recovery_fee     39717 non-null  float64\n",
      " 45  last_pymnt_d                39646 non-null  object \n",
      " 46  last_pymnt_amnt             39717 non-null  float64\n",
      " 47  next_pymnt_d                1140 non-null   object \n",
      " 48  last_credit_pull_d          39715 non-null  object \n",
      " 49  collections_12_mths_ex_med  39661 non-null  float64\n",
      " 50  policy_code                 39717 non-null  int64  \n",
      " 51  application_type            39717 non-null  object \n",
      " 52  acc_now_delinq              39717 non-null  int64  \n",
      " 53  chargeoff_within_12_mths    39661 non-null  float64\n",
      " 54  delinq_amnt                 39717 non-null  int64  \n",
      " 55  pub_rec_bankruptcies        39020 non-null  float64\n",
      " 56  tax_liens                   39678 non-null  float64\n",
      "dtypes: float64(20), int64(13), object(24)\n",
      "memory usage: 17.3+ MB\n"
     ]
    }
   ],
   "source": [
    "ld.info()"
   ]
  },
  {
   "cell_type": "code",
   "execution_count": 12,
   "id": "8183cf9c",
   "metadata": {},
   "outputs": [
    {
     "data": {
      "text/plain": [
       "0"
      ]
     },
     "execution_count": 12,
     "metadata": {},
     "output_type": "execute_result"
    }
   ],
   "source": [
    "#Check rows with null values\n",
    "ld.isnull().all(axis=0).sum()"
   ]
  },
  {
   "cell_type": "code",
   "execution_count": 13,
   "id": "976677f1",
   "metadata": {},
   "outputs": [
    {
     "data": {
      "text/plain": [
       "emp_title                      6.19\n",
       "emp_length                     2.71\n",
       "desc                          32.58\n",
       "title                          0.03\n",
       "mths_since_last_delinq        64.66\n",
       "mths_since_last_record        92.99\n",
       "revol_util                     0.13\n",
       "last_pymnt_d                   0.18\n",
       "next_pymnt_d                  97.13\n",
       "last_credit_pull_d             0.01\n",
       "collections_12_mths_ex_med     0.14\n",
       "chargeoff_within_12_mths       0.14\n",
       "pub_rec_bankruptcies           1.75\n",
       "tax_liens                      0.10\n",
       "dtype: float64"
      ]
     },
     "execution_count": 13,
     "metadata": {},
     "output_type": "execute_result"
    }
   ],
   "source": [
    "#No rows with all null values, so finding the percentage\n",
    "null_perc= round(100*(ld.isnull().sum()/len(ld.index)),2)\n",
    "null_perc[null_perc>0]"
   ]
  },
  {
   "cell_type": "code",
   "execution_count": 14,
   "id": "4e3f7c35",
   "metadata": {},
   "outputs": [],
   "source": [
    "#Considering 30% as threshold, removing the columns with more than 30% null values\n",
    "ld.drop(null_perc[null_perc>30].index, axis=1, inplace=True)"
   ]
  },
  {
   "cell_type": "code",
   "execution_count": 15,
   "id": "206bbaa0",
   "metadata": {},
   "outputs": [
    {
     "name": "stdout",
     "output_type": "stream",
     "text": [
      "<class 'pandas.core.frame.DataFrame'>\n",
      "RangeIndex: 39717 entries, 0 to 39716\n",
      "Data columns (total 53 columns):\n",
      " #   Column                      Non-Null Count  Dtype  \n",
      "---  ------                      --------------  -----  \n",
      " 0   id                          39717 non-null  int64  \n",
      " 1   member_id                   39717 non-null  int64  \n",
      " 2   loan_amnt                   39717 non-null  int64  \n",
      " 3   funded_amnt                 39717 non-null  int64  \n",
      " 4   funded_amnt_inv             39717 non-null  float64\n",
      " 5   term                        39717 non-null  object \n",
      " 6   int_rate                    39717 non-null  object \n",
      " 7   installment                 39717 non-null  float64\n",
      " 8   grade                       39717 non-null  object \n",
      " 9   sub_grade                   39717 non-null  object \n",
      " 10  emp_title                   37258 non-null  object \n",
      " 11  emp_length                  38642 non-null  object \n",
      " 12  home_ownership              39717 non-null  object \n",
      " 13  annual_inc                  39717 non-null  float64\n",
      " 14  verification_status         39717 non-null  object \n",
      " 15  issue_d                     39717 non-null  object \n",
      " 16  loan_status                 39717 non-null  object \n",
      " 17  pymnt_plan                  39717 non-null  object \n",
      " 18  url                         39717 non-null  object \n",
      " 19  purpose                     39717 non-null  object \n",
      " 20  title                       39706 non-null  object \n",
      " 21  zip_code                    39717 non-null  object \n",
      " 22  addr_state                  39717 non-null  object \n",
      " 23  dti                         39717 non-null  float64\n",
      " 24  delinq_2yrs                 39717 non-null  int64  \n",
      " 25  earliest_cr_line            39717 non-null  object \n",
      " 26  inq_last_6mths              39717 non-null  int64  \n",
      " 27  open_acc                    39717 non-null  int64  \n",
      " 28  pub_rec                     39717 non-null  int64  \n",
      " 29  revol_bal                   39717 non-null  int64  \n",
      " 30  revol_util                  39667 non-null  object \n",
      " 31  total_acc                   39717 non-null  int64  \n",
      " 32  initial_list_status         39717 non-null  object \n",
      " 33  out_prncp                   39717 non-null  float64\n",
      " 34  out_prncp_inv               39717 non-null  float64\n",
      " 35  total_pymnt                 39717 non-null  float64\n",
      " 36  total_pymnt_inv             39717 non-null  float64\n",
      " 37  total_rec_prncp             39717 non-null  float64\n",
      " 38  total_rec_int               39717 non-null  float64\n",
      " 39  total_rec_late_fee          39717 non-null  float64\n",
      " 40  recoveries                  39717 non-null  float64\n",
      " 41  collection_recovery_fee     39717 non-null  float64\n",
      " 42  last_pymnt_d                39646 non-null  object \n",
      " 43  last_pymnt_amnt             39717 non-null  float64\n",
      " 44  last_credit_pull_d          39715 non-null  object \n",
      " 45  collections_12_mths_ex_med  39661 non-null  float64\n",
      " 46  policy_code                 39717 non-null  int64  \n",
      " 47  application_type            39717 non-null  object \n",
      " 48  acc_now_delinq              39717 non-null  int64  \n",
      " 49  chargeoff_within_12_mths    39661 non-null  float64\n",
      " 50  delinq_amnt                 39717 non-null  int64  \n",
      " 51  pub_rec_bankruptcies        39020 non-null  float64\n",
      " 52  tax_liens                   39678 non-null  float64\n",
      "dtypes: float64(18), int64(13), object(22)\n",
      "memory usage: 16.1+ MB\n"
     ]
    }
   ],
   "source": [
    "ld.info()"
   ]
  },
  {
   "cell_type": "code",
   "execution_count": 16,
   "id": "2b07e105",
   "metadata": {},
   "outputs": [
    {
     "data": {
      "text/html": [
       "<div>\n",
       "<style scoped>\n",
       "    .dataframe tbody tr th:only-of-type {\n",
       "        vertical-align: middle;\n",
       "    }\n",
       "\n",
       "    .dataframe tbody tr th {\n",
       "        vertical-align: top;\n",
       "    }\n",
       "\n",
       "    .dataframe thead th {\n",
       "        text-align: right;\n",
       "    }\n",
       "</style>\n",
       "<table border=\"1\" class=\"dataframe\">\n",
       "  <thead>\n",
       "    <tr style=\"text-align: right;\">\n",
       "      <th></th>\n",
       "      <th>id</th>\n",
       "      <th>member_id</th>\n",
       "      <th>loan_amnt</th>\n",
       "      <th>funded_amnt</th>\n",
       "      <th>funded_amnt_inv</th>\n",
       "      <th>installment</th>\n",
       "      <th>annual_inc</th>\n",
       "      <th>dti</th>\n",
       "      <th>delinq_2yrs</th>\n",
       "      <th>inq_last_6mths</th>\n",
       "      <th>...</th>\n",
       "      <th>recoveries</th>\n",
       "      <th>collection_recovery_fee</th>\n",
       "      <th>last_pymnt_amnt</th>\n",
       "      <th>collections_12_mths_ex_med</th>\n",
       "      <th>policy_code</th>\n",
       "      <th>acc_now_delinq</th>\n",
       "      <th>chargeoff_within_12_mths</th>\n",
       "      <th>delinq_amnt</th>\n",
       "      <th>pub_rec_bankruptcies</th>\n",
       "      <th>tax_liens</th>\n",
       "    </tr>\n",
       "  </thead>\n",
       "  <tbody>\n",
       "    <tr>\n",
       "      <th>count</th>\n",
       "      <td>3.971700e+04</td>\n",
       "      <td>3.971700e+04</td>\n",
       "      <td>39717.000000</td>\n",
       "      <td>39717.000000</td>\n",
       "      <td>39717.000000</td>\n",
       "      <td>39717.000000</td>\n",
       "      <td>3.971700e+04</td>\n",
       "      <td>39717.000000</td>\n",
       "      <td>39717.000000</td>\n",
       "      <td>39717.000000</td>\n",
       "      <td>...</td>\n",
       "      <td>39717.000000</td>\n",
       "      <td>39717.000000</td>\n",
       "      <td>39717.000000</td>\n",
       "      <td>39661.0</td>\n",
       "      <td>39717.0</td>\n",
       "      <td>39717.0</td>\n",
       "      <td>39661.0</td>\n",
       "      <td>39717.0</td>\n",
       "      <td>39020.000000</td>\n",
       "      <td>39678.0</td>\n",
       "    </tr>\n",
       "    <tr>\n",
       "      <th>mean</th>\n",
       "      <td>6.831319e+05</td>\n",
       "      <td>8.504636e+05</td>\n",
       "      <td>11219.443815</td>\n",
       "      <td>10947.713196</td>\n",
       "      <td>10397.448868</td>\n",
       "      <td>324.561922</td>\n",
       "      <td>6.896893e+04</td>\n",
       "      <td>13.315130</td>\n",
       "      <td>0.146512</td>\n",
       "      <td>0.869200</td>\n",
       "      <td>...</td>\n",
       "      <td>95.221624</td>\n",
       "      <td>12.406112</td>\n",
       "      <td>2678.826162</td>\n",
       "      <td>0.0</td>\n",
       "      <td>1.0</td>\n",
       "      <td>0.0</td>\n",
       "      <td>0.0</td>\n",
       "      <td>0.0</td>\n",
       "      <td>0.043260</td>\n",
       "      <td>0.0</td>\n",
       "    </tr>\n",
       "    <tr>\n",
       "      <th>std</th>\n",
       "      <td>2.106941e+05</td>\n",
       "      <td>2.656783e+05</td>\n",
       "      <td>7456.670694</td>\n",
       "      <td>7187.238670</td>\n",
       "      <td>7128.450439</td>\n",
       "      <td>208.874874</td>\n",
       "      <td>6.379377e+04</td>\n",
       "      <td>6.678594</td>\n",
       "      <td>0.491812</td>\n",
       "      <td>1.070219</td>\n",
       "      <td>...</td>\n",
       "      <td>688.744771</td>\n",
       "      <td>148.671593</td>\n",
       "      <td>4447.136012</td>\n",
       "      <td>0.0</td>\n",
       "      <td>0.0</td>\n",
       "      <td>0.0</td>\n",
       "      <td>0.0</td>\n",
       "      <td>0.0</td>\n",
       "      <td>0.204324</td>\n",
       "      <td>0.0</td>\n",
       "    </tr>\n",
       "    <tr>\n",
       "      <th>min</th>\n",
       "      <td>5.473400e+04</td>\n",
       "      <td>7.069900e+04</td>\n",
       "      <td>500.000000</td>\n",
       "      <td>500.000000</td>\n",
       "      <td>0.000000</td>\n",
       "      <td>15.690000</td>\n",
       "      <td>4.000000e+03</td>\n",
       "      <td>0.000000</td>\n",
       "      <td>0.000000</td>\n",
       "      <td>0.000000</td>\n",
       "      <td>...</td>\n",
       "      <td>0.000000</td>\n",
       "      <td>0.000000</td>\n",
       "      <td>0.000000</td>\n",
       "      <td>0.0</td>\n",
       "      <td>1.0</td>\n",
       "      <td>0.0</td>\n",
       "      <td>0.0</td>\n",
       "      <td>0.0</td>\n",
       "      <td>0.000000</td>\n",
       "      <td>0.0</td>\n",
       "    </tr>\n",
       "    <tr>\n",
       "      <th>25%</th>\n",
       "      <td>5.162210e+05</td>\n",
       "      <td>6.667800e+05</td>\n",
       "      <td>5500.000000</td>\n",
       "      <td>5400.000000</td>\n",
       "      <td>5000.000000</td>\n",
       "      <td>167.020000</td>\n",
       "      <td>4.040400e+04</td>\n",
       "      <td>8.170000</td>\n",
       "      <td>0.000000</td>\n",
       "      <td>0.000000</td>\n",
       "      <td>...</td>\n",
       "      <td>0.000000</td>\n",
       "      <td>0.000000</td>\n",
       "      <td>218.680000</td>\n",
       "      <td>0.0</td>\n",
       "      <td>1.0</td>\n",
       "      <td>0.0</td>\n",
       "      <td>0.0</td>\n",
       "      <td>0.0</td>\n",
       "      <td>0.000000</td>\n",
       "      <td>0.0</td>\n",
       "    </tr>\n",
       "    <tr>\n",
       "      <th>50%</th>\n",
       "      <td>6.656650e+05</td>\n",
       "      <td>8.508120e+05</td>\n",
       "      <td>10000.000000</td>\n",
       "      <td>9600.000000</td>\n",
       "      <td>8975.000000</td>\n",
       "      <td>280.220000</td>\n",
       "      <td>5.900000e+04</td>\n",
       "      <td>13.400000</td>\n",
       "      <td>0.000000</td>\n",
       "      <td>1.000000</td>\n",
       "      <td>...</td>\n",
       "      <td>0.000000</td>\n",
       "      <td>0.000000</td>\n",
       "      <td>546.140000</td>\n",
       "      <td>0.0</td>\n",
       "      <td>1.0</td>\n",
       "      <td>0.0</td>\n",
       "      <td>0.0</td>\n",
       "      <td>0.0</td>\n",
       "      <td>0.000000</td>\n",
       "      <td>0.0</td>\n",
       "    </tr>\n",
       "    <tr>\n",
       "      <th>75%</th>\n",
       "      <td>8.377550e+05</td>\n",
       "      <td>1.047339e+06</td>\n",
       "      <td>15000.000000</td>\n",
       "      <td>15000.000000</td>\n",
       "      <td>14400.000000</td>\n",
       "      <td>430.780000</td>\n",
       "      <td>8.230000e+04</td>\n",
       "      <td>18.600000</td>\n",
       "      <td>0.000000</td>\n",
       "      <td>1.000000</td>\n",
       "      <td>...</td>\n",
       "      <td>0.000000</td>\n",
       "      <td>0.000000</td>\n",
       "      <td>3293.160000</td>\n",
       "      <td>0.0</td>\n",
       "      <td>1.0</td>\n",
       "      <td>0.0</td>\n",
       "      <td>0.0</td>\n",
       "      <td>0.0</td>\n",
       "      <td>0.000000</td>\n",
       "      <td>0.0</td>\n",
       "    </tr>\n",
       "    <tr>\n",
       "      <th>max</th>\n",
       "      <td>1.077501e+06</td>\n",
       "      <td>1.314167e+06</td>\n",
       "      <td>35000.000000</td>\n",
       "      <td>35000.000000</td>\n",
       "      <td>35000.000000</td>\n",
       "      <td>1305.190000</td>\n",
       "      <td>6.000000e+06</td>\n",
       "      <td>29.990000</td>\n",
       "      <td>11.000000</td>\n",
       "      <td>8.000000</td>\n",
       "      <td>...</td>\n",
       "      <td>29623.350000</td>\n",
       "      <td>7002.190000</td>\n",
       "      <td>36115.200000</td>\n",
       "      <td>0.0</td>\n",
       "      <td>1.0</td>\n",
       "      <td>0.0</td>\n",
       "      <td>0.0</td>\n",
       "      <td>0.0</td>\n",
       "      <td>2.000000</td>\n",
       "      <td>0.0</td>\n",
       "    </tr>\n",
       "  </tbody>\n",
       "</table>\n",
       "<p>8 rows × 31 columns</p>\n",
       "</div>"
      ],
      "text/plain": [
       "                 id     member_id     loan_amnt   funded_amnt  \\\n",
       "count  3.971700e+04  3.971700e+04  39717.000000  39717.000000   \n",
       "mean   6.831319e+05  8.504636e+05  11219.443815  10947.713196   \n",
       "std    2.106941e+05  2.656783e+05   7456.670694   7187.238670   \n",
       "min    5.473400e+04  7.069900e+04    500.000000    500.000000   \n",
       "25%    5.162210e+05  6.667800e+05   5500.000000   5400.000000   \n",
       "50%    6.656650e+05  8.508120e+05  10000.000000   9600.000000   \n",
       "75%    8.377550e+05  1.047339e+06  15000.000000  15000.000000   \n",
       "max    1.077501e+06  1.314167e+06  35000.000000  35000.000000   \n",
       "\n",
       "       funded_amnt_inv   installment    annual_inc           dti  \\\n",
       "count     39717.000000  39717.000000  3.971700e+04  39717.000000   \n",
       "mean      10397.448868    324.561922  6.896893e+04     13.315130   \n",
       "std        7128.450439    208.874874  6.379377e+04      6.678594   \n",
       "min           0.000000     15.690000  4.000000e+03      0.000000   \n",
       "25%        5000.000000    167.020000  4.040400e+04      8.170000   \n",
       "50%        8975.000000    280.220000  5.900000e+04     13.400000   \n",
       "75%       14400.000000    430.780000  8.230000e+04     18.600000   \n",
       "max       35000.000000   1305.190000  6.000000e+06     29.990000   \n",
       "\n",
       "        delinq_2yrs  inq_last_6mths  ...    recoveries  \\\n",
       "count  39717.000000    39717.000000  ...  39717.000000   \n",
       "mean       0.146512        0.869200  ...     95.221624   \n",
       "std        0.491812        1.070219  ...    688.744771   \n",
       "min        0.000000        0.000000  ...      0.000000   \n",
       "25%        0.000000        0.000000  ...      0.000000   \n",
       "50%        0.000000        1.000000  ...      0.000000   \n",
       "75%        0.000000        1.000000  ...      0.000000   \n",
       "max       11.000000        8.000000  ...  29623.350000   \n",
       "\n",
       "       collection_recovery_fee  last_pymnt_amnt  collections_12_mths_ex_med  \\\n",
       "count             39717.000000     39717.000000                     39661.0   \n",
       "mean                 12.406112      2678.826162                         0.0   \n",
       "std                 148.671593      4447.136012                         0.0   \n",
       "min                   0.000000         0.000000                         0.0   \n",
       "25%                   0.000000       218.680000                         0.0   \n",
       "50%                   0.000000       546.140000                         0.0   \n",
       "75%                   0.000000      3293.160000                         0.0   \n",
       "max                7002.190000     36115.200000                         0.0   \n",
       "\n",
       "       policy_code  acc_now_delinq  chargeoff_within_12_mths  delinq_amnt  \\\n",
       "count      39717.0         39717.0                   39661.0      39717.0   \n",
       "mean           1.0             0.0                       0.0          0.0   \n",
       "std            0.0             0.0                       0.0          0.0   \n",
       "min            1.0             0.0                       0.0          0.0   \n",
       "25%            1.0             0.0                       0.0          0.0   \n",
       "50%            1.0             0.0                       0.0          0.0   \n",
       "75%            1.0             0.0                       0.0          0.0   \n",
       "max            1.0             0.0                       0.0          0.0   \n",
       "\n",
       "       pub_rec_bankruptcies  tax_liens  \n",
       "count          39020.000000    39678.0  \n",
       "mean               0.043260        0.0  \n",
       "std                0.204324        0.0  \n",
       "min                0.000000        0.0  \n",
       "25%                0.000000        0.0  \n",
       "50%                0.000000        0.0  \n",
       "75%                0.000000        0.0  \n",
       "max                2.000000        0.0  \n",
       "\n",
       "[8 rows x 31 columns]"
      ]
     },
     "execution_count": 16,
     "metadata": {},
     "output_type": "execute_result"
    }
   ],
   "source": [
    "ld.describe()"
   ]
  },
  {
   "cell_type": "code",
   "execution_count": 17,
   "id": "70a8d26f",
   "metadata": {
    "scrolled": false
   },
   "outputs": [
    {
     "data": {
      "text/plain": [
       "tax_liens                         1\n",
       "delinq_amnt                       1\n",
       "chargeoff_within_12_mths          1\n",
       "acc_now_delinq                    1\n",
       "application_type                  1\n",
       "policy_code                       1\n",
       "collections_12_mths_ex_med        1\n",
       "initial_list_status               1\n",
       "pymnt_plan                        1\n",
       "term                              2\n",
       "pub_rec_bankruptcies              3\n",
       "verification_status               3\n",
       "loan_status                       3\n",
       "pub_rec                           5\n",
       "home_ownership                    5\n",
       "grade                             7\n",
       "inq_last_6mths                    9\n",
       "delinq_2yrs                      11\n",
       "emp_length                       11\n",
       "purpose                          14\n",
       "sub_grade                        35\n",
       "open_acc                         40\n",
       "addr_state                       50\n",
       "issue_d                          55\n",
       "total_acc                        82\n",
       "last_pymnt_d                    101\n",
       "last_credit_pull_d              106\n",
       "int_rate                        371\n",
       "earliest_cr_line                526\n",
       "zip_code                        823\n",
       "loan_amnt                       885\n",
       "funded_amnt                    1041\n",
       "revol_util                     1089\n",
       "out_prncp                      1137\n",
       "out_prncp_inv                  1138\n",
       "total_rec_late_fee             1356\n",
       "collection_recovery_fee        2616\n",
       "dti                            2868\n",
       "recoveries                     4040\n",
       "annual_inc                     5318\n",
       "total_rec_prncp                7976\n",
       "funded_amnt_inv                8205\n",
       "installment                   15383\n",
       "title                         19615\n",
       "revol_bal                     21711\n",
       "emp_title                     28820\n",
       "last_pymnt_amnt               34930\n",
       "total_rec_int                 35148\n",
       "total_pymnt_inv               37518\n",
       "total_pymnt                   37850\n",
       "url                           39717\n",
       "member_id                     39717\n",
       "id                            39717\n",
       "dtype: int64"
      ]
     },
     "execution_count": 17,
     "metadata": {},
     "output_type": "execute_result"
    }
   ],
   "source": [
    "#Checking for columns with unique values\n",
    "ld.nunique().sort_values()"
   ]
  },
  {
   "cell_type": "code",
   "execution_count": 18,
   "id": "ecd66385",
   "metadata": {},
   "outputs": [
    {
     "name": "stdout",
     "output_type": "stream",
     "text": [
      "<class 'pandas.core.frame.DataFrame'>\n",
      "RangeIndex: 39717 entries, 0 to 39716\n",
      "Data columns (total 39 columns):\n",
      " #   Column                   Non-Null Count  Dtype  \n",
      "---  ------                   --------------  -----  \n",
      " 0   id                       39717 non-null  int64  \n",
      " 1   loan_amnt                39717 non-null  int64  \n",
      " 2   funded_amnt              39717 non-null  int64  \n",
      " 3   funded_amnt_inv          39717 non-null  float64\n",
      " 4   term                     39717 non-null  object \n",
      " 5   int_rate                 39717 non-null  object \n",
      " 6   installment              39717 non-null  float64\n",
      " 7   grade                    39717 non-null  object \n",
      " 8   sub_grade                39717 non-null  object \n",
      " 9   emp_length               38642 non-null  object \n",
      " 10  home_ownership           39717 non-null  object \n",
      " 11  annual_inc               39717 non-null  float64\n",
      " 12  verification_status      39717 non-null  object \n",
      " 13  issue_d                  39717 non-null  object \n",
      " 14  loan_status              39717 non-null  object \n",
      " 15  purpose                  39717 non-null  object \n",
      " 16  addr_state               39717 non-null  object \n",
      " 17  dti                      39717 non-null  float64\n",
      " 18  delinq_2yrs              39717 non-null  int64  \n",
      " 19  earliest_cr_line         39717 non-null  object \n",
      " 20  inq_last_6mths           39717 non-null  int64  \n",
      " 21  open_acc                 39717 non-null  int64  \n",
      " 22  pub_rec                  39717 non-null  int64  \n",
      " 23  revol_bal                39717 non-null  int64  \n",
      " 24  revol_util               39667 non-null  object \n",
      " 25  total_acc                39717 non-null  int64  \n",
      " 26  out_prncp                39717 non-null  float64\n",
      " 27  out_prncp_inv            39717 non-null  float64\n",
      " 28  total_pymnt              39717 non-null  float64\n",
      " 29  total_pymnt_inv          39717 non-null  float64\n",
      " 30  total_rec_prncp          39717 non-null  float64\n",
      " 31  total_rec_int            39717 non-null  float64\n",
      " 32  total_rec_late_fee       39717 non-null  float64\n",
      " 33  recoveries               39717 non-null  float64\n",
      " 34  collection_recovery_fee  39717 non-null  float64\n",
      " 35  last_pymnt_d             39646 non-null  object \n",
      " 36  last_pymnt_amnt          39717 non-null  float64\n",
      " 37  last_credit_pull_d       39715 non-null  object \n",
      " 38  pub_rec_bankruptcies     39020 non-null  float64\n",
      "dtypes: float64(15), int64(9), object(15)\n",
      "memory usage: 11.8+ MB\n"
     ]
    }
   ],
   "source": [
    "#Droping single values columns and irrelevant columns\n",
    "ld.drop(['tax_liens', 'delinq_amnt', 'chargeoff_within_12_mths', 'acc_now_delinq', 'application_type', 'policy_code', 'collections_12_mths_ex_med', 'pymnt_plan', 'initial_list_status', 'member_id', 'url', 'title', 'emp_title', 'zip_code'], axis = 1, inplace = True)\n",
    "ld.info()"
   ]
  },
  {
   "cell_type": "code",
   "execution_count": 19,
   "id": "d938be96",
   "metadata": {},
   "outputs": [
    {
     "data": {
      "text/plain": [
       "(39717, 39)"
      ]
     },
     "execution_count": 19,
     "metadata": {},
     "output_type": "execute_result"
    }
   ],
   "source": [
    "ld.shape"
   ]
  },
  {
   "cell_type": "code",
   "execution_count": 20,
   "id": "33996b04",
   "metadata": {},
   "outputs": [
    {
     "name": "stdout",
     "output_type": "stream",
     "text": [
      "Fully Paid     32950\n",
      "Charged Off     5627\n",
      "Current         1140\n",
      "Name: loan_status, dtype: int64\n"
     ]
    }
   ],
   "source": [
    "#Checking loan status column\n",
    "print(ld.loan_status.value_counts())"
   ]
  },
  {
   "cell_type": "code",
   "execution_count": 21,
   "id": "e2234475",
   "metadata": {},
   "outputs": [
    {
     "data": {
      "text/plain": [
       "array(['Fully Paid', 'Charged Off'], dtype=object)"
      ]
     },
     "execution_count": 21,
     "metadata": {},
     "output_type": "execute_result"
    }
   ],
   "source": [
    "#Excluding loan_status = 'Current'.These candidates are not labelled as 'defaulted'.\n",
    "ld=ld[ld.loan_status!='Current']\n",
    "ld.loan_status.unique()"
   ]
  },
  {
   "cell_type": "code",
   "execution_count": 22,
   "id": "8c0a9f46",
   "metadata": {},
   "outputs": [
    {
     "name": "stdout",
     "output_type": "stream",
     "text": [
      "debt_consolidation    18055\n",
      "credit_card            5027\n",
      "other                  3865\n",
      "home_improvement       2875\n",
      "major_purchase         2150\n",
      "small_business         1754\n",
      "car                    1499\n",
      "wedding                 926\n",
      "medical                 681\n",
      "moving                  576\n",
      "vacation                375\n",
      "house                   367\n",
      "educational             325\n",
      "renewable_energy        102\n",
      "Name: purpose, dtype: int64\n"
     ]
    }
   ],
   "source": [
    "#Checking purpose for loan\n",
    "print(ld.purpose.value_counts())"
   ]
  },
  {
   "cell_type": "code",
   "execution_count": 23,
   "id": "48139677",
   "metadata": {},
   "outputs": [
    {
     "data": {
      "text/plain": [
       "debt_consolidation    46.802499\n",
       "credit_card           13.031081\n",
       "other                 10.018923\n",
       "home_improvement       7.452627\n",
       "major_purchase         5.573269\n",
       "small_business         4.546751\n",
       "car                    3.885735\n",
       "wedding                2.400394\n",
       "medical                1.765301\n",
       "moving                 1.493118\n",
       "vacation               0.972082\n",
       "house                  0.951344\n",
       "educational            0.842471\n",
       "renewable_energy       0.264406\n",
       "Name: purpose, dtype: float64"
      ]
     },
     "execution_count": 23,
     "metadata": {},
     "output_type": "execute_result"
    }
   ],
   "source": [
    "#Percentage calculation of purpose for loan\n",
    "(ld.purpose.value_counts()*100)/len(ld)"
   ]
  },
  {
   "cell_type": "code",
   "execution_count": 24,
   "id": "0200a879",
   "metadata": {},
   "outputs": [
    {
     "name": "stdout",
     "output_type": "stream",
     "text": [
      "emp_length                 1033\n",
      "pub_rec_bankruptcies        697\n",
      "last_pymnt_d                 71\n",
      "revol_util                   50\n",
      "last_credit_pull_d            2\n",
      "total_pymnt                   0\n",
      "pub_rec                       0\n",
      "revol_bal                     0\n",
      "total_acc                     0\n",
      "out_prncp                     0\n",
      "out_prncp_inv                 0\n",
      "total_rec_prncp               0\n",
      "total_pymnt_inv               0\n",
      "inq_last_6mths                0\n",
      "total_rec_int                 0\n",
      "total_rec_late_fee            0\n",
      "recoveries                    0\n",
      "collection_recovery_fee       0\n",
      "last_pymnt_amnt               0\n",
      "open_acc                      0\n",
      "id                            0\n",
      "loan_amnt                     0\n",
      "delinq_2yrs                   0\n",
      "funded_amnt                   0\n",
      "funded_amnt_inv               0\n",
      "term                          0\n",
      "int_rate                      0\n",
      "installment                   0\n",
      "grade                         0\n",
      "sub_grade                     0\n",
      "home_ownership                0\n",
      "annual_inc                    0\n",
      "verification_status           0\n",
      "issue_d                       0\n",
      "loan_status                   0\n",
      "purpose                       0\n",
      "addr_state                    0\n",
      "dti                           0\n",
      "earliest_cr_line              0\n",
      "dtype: int64\n"
     ]
    }
   ],
   "source": [
    "#Check numeric field\n",
    "print(ld.isnull().sum().sort_values(ascending=False))"
   ]
  },
  {
   "cell_type": "code",
   "execution_count": 25,
   "id": "dba96424",
   "metadata": {},
   "outputs": [
    {
     "name": "stdout",
     "output_type": "stream",
     "text": [
      "['10+ years' '< 1 year' '3 years' '8 years' '9 years' '4 years' '5 years'\n",
      " '1 year' '6 years' '2 years' '7 years' nan]\n"
     ]
    }
   ],
   "source": [
    "#checking emp_length\n",
    "print(ld['emp_length'].unique())"
   ]
  },
  {
   "cell_type": "code",
   "execution_count": 26,
   "id": "fc62af62",
   "metadata": {},
   "outputs": [],
   "source": [
    "ld.emp_length.fillna('< 1 year', inplace=True)"
   ]
  },
  {
   "cell_type": "code",
   "execution_count": 27,
   "id": "9b164dbf",
   "metadata": {},
   "outputs": [
    {
     "data": {
      "text/plain": [
       "array([ 0.,  1.,  2., nan])"
      ]
     },
     "execution_count": 27,
     "metadata": {},
     "output_type": "execute_result"
    }
   ],
   "source": [
    "#checking pub_rec_bankruptcies\n",
    "ld['pub_rec_bankruptcies'].unique()"
   ]
  },
  {
   "cell_type": "code",
   "execution_count": 28,
   "id": "50c693d4",
   "metadata": {},
   "outputs": [
    {
     "data": {
      "text/plain": [
       "697"
      ]
     },
     "execution_count": 28,
     "metadata": {},
     "output_type": "execute_result"
    }
   ],
   "source": [
    "ld.pub_rec_bankruptcies.isnull().sum()"
   ]
  },
  {
   "cell_type": "code",
   "execution_count": 29,
   "id": "befbd564",
   "metadata": {},
   "outputs": [],
   "source": [
    "ld.pub_rec_bankruptcies.fillna('Unknown',inplace=True)"
   ]
  },
  {
   "cell_type": "code",
   "execution_count": 30,
   "id": "bd745b7d",
   "metadata": {},
   "outputs": [
    {
     "data": {
      "text/plain": [
       "array(['83.70%', '9.40%', '98.50%', ..., '49.63%', '0.04%', '7.28%'],\n",
       "      dtype=object)"
      ]
     },
     "execution_count": 30,
     "metadata": {},
     "output_type": "execute_result"
    }
   ],
   "source": [
    "#Checking revol_util\n",
    "ld['revol_util'].unique()"
   ]
  },
  {
   "cell_type": "code",
   "execution_count": 31,
   "id": "6a4a49ba",
   "metadata": {},
   "outputs": [],
   "source": [
    "ld.revol_util.fillna('0.00%', inplace=True)"
   ]
  },
  {
   "cell_type": "code",
   "execution_count": 32,
   "id": "9ff5168b",
   "metadata": {},
   "outputs": [
    {
     "data": {
      "text/plain": [
       "0"
      ]
     },
     "execution_count": 32,
     "metadata": {},
     "output_type": "execute_result"
    }
   ],
   "source": [
    "ld.revol_util.isnull().sum()"
   ]
  },
  {
   "cell_type": "markdown",
   "id": "38bf4257",
   "metadata": {},
   "source": [
    "### Adding derived columns"
   ]
  },
  {
   "cell_type": "code",
   "execution_count": 33,
   "id": "a3f4436b",
   "metadata": {},
   "outputs": [
    {
     "name": "stdout",
     "output_type": "stream",
     "text": [
      "<class 'pandas.core.frame.DataFrame'>\n",
      "Int64Index: 38577 entries, 0 to 39716\n",
      "Data columns (total 39 columns):\n",
      " #   Column                   Non-Null Count  Dtype  \n",
      "---  ------                   --------------  -----  \n",
      " 0   id                       38577 non-null  int64  \n",
      " 1   loan_amnt                38577 non-null  int64  \n",
      " 2   funded_amnt              38577 non-null  int64  \n",
      " 3   funded_amnt_inv          38577 non-null  float64\n",
      " 4   term                     38577 non-null  object \n",
      " 5   int_rate                 38577 non-null  object \n",
      " 6   installment              38577 non-null  float64\n",
      " 7   grade                    38577 non-null  object \n",
      " 8   sub_grade                38577 non-null  object \n",
      " 9   emp_length               38577 non-null  object \n",
      " 10  home_ownership           38577 non-null  object \n",
      " 11  annual_inc               38577 non-null  float64\n",
      " 12  verification_status      38577 non-null  object \n",
      " 13  issue_d                  38577 non-null  object \n",
      " 14  loan_status              38577 non-null  object \n",
      " 15  purpose                  38577 non-null  object \n",
      " 16  addr_state               38577 non-null  object \n",
      " 17  dti                      38577 non-null  float64\n",
      " 18  delinq_2yrs              38577 non-null  int64  \n",
      " 19  earliest_cr_line         38577 non-null  object \n",
      " 20  inq_last_6mths           38577 non-null  int64  \n",
      " 21  open_acc                 38577 non-null  int64  \n",
      " 22  pub_rec                  38577 non-null  int64  \n",
      " 23  revol_bal                38577 non-null  int64  \n",
      " 24  revol_util               38577 non-null  object \n",
      " 25  total_acc                38577 non-null  int64  \n",
      " 26  out_prncp                38577 non-null  float64\n",
      " 27  out_prncp_inv            38577 non-null  float64\n",
      " 28  total_pymnt              38577 non-null  float64\n",
      " 29  total_pymnt_inv          38577 non-null  float64\n",
      " 30  total_rec_prncp          38577 non-null  float64\n",
      " 31  total_rec_int            38577 non-null  float64\n",
      " 32  total_rec_late_fee       38577 non-null  float64\n",
      " 33  recoveries               38577 non-null  float64\n",
      " 34  collection_recovery_fee  38577 non-null  float64\n",
      " 35  last_pymnt_d             38506 non-null  object \n",
      " 36  last_pymnt_amnt          38577 non-null  float64\n",
      " 37  last_credit_pull_d       38575 non-null  object \n",
      " 38  pub_rec_bankruptcies     38577 non-null  object \n",
      "dtypes: float64(14), int64(9), object(16)\n",
      "memory usage: 11.8+ MB\n"
     ]
    }
   ],
   "source": [
    "ld.info()"
   ]
  },
  {
   "cell_type": "code",
   "execution_count": 34,
   "id": "3286f0ac",
   "metadata": {},
   "outputs": [],
   "source": [
    "#Correcting the data types and adding columns\n",
    "ld['pub_rec_bankruptcies_derv']=ld.pub_rec_bankruptcies\n",
    "ld['pub_rec_bankruptcies_derv'].replace('Unknown', '0.0',inplace=True)\n",
    "ld.pub_rec_bankruptcies_derv=ld.pub_rec_bankruptcies_derv.apply(pd.to_numeric)"
   ]
  },
  {
   "cell_type": "code",
   "execution_count": 35,
   "id": "ca10bf78",
   "metadata": {},
   "outputs": [],
   "source": [
    "ld['int_rate_derv']=ld.int_rate.str.rstrip('%')\n",
    "ld.int_rate_derv=ld.int_rate_derv.apply(pd.to_numeric)"
   ]
  },
  {
   "cell_type": "code",
   "execution_count": 36,
   "id": "42d9fd8c",
   "metadata": {},
   "outputs": [],
   "source": [
    "ld['emp_length_derv']=ld.emp_length.str.extract('(\\d+)')\n",
    "ld.emp_length_derv=ld.emp_length_derv.apply(pd.to_numeric)"
   ]
  },
  {
   "cell_type": "code",
   "execution_count": 37,
   "id": "1e143a25",
   "metadata": {},
   "outputs": [],
   "source": [
    "ld['issue_d']=pd.to_datetime(ld.issue_d.str.upper(), format='%b-%y', yearfirst=False)\n",
    "ld['issue_d_yr']=ld.issue_d.dt.year\n",
    "ld['issue_d_mth']=ld.issue_d.dt.strftime('%b')"
   ]
  },
  {
   "cell_type": "code",
   "execution_count": 38,
   "id": "b4b58853",
   "metadata": {},
   "outputs": [],
   "source": [
    "ld['earliest_cr_line']=pd.to_datetime(ld.earliest_cr_line.str.upper(), format='%b-%y', yearfirst=False)\n",
    "ld['earliest_cr_line_yr']=ld.earliest_cr_line.dt.year\n",
    "ld['earliest_cr_line_mth']=ld.earliest_cr_line.dt.strftime('%b')"
   ]
  },
  {
   "cell_type": "code",
   "execution_count": 39,
   "id": "b2fee9fc",
   "metadata": {},
   "outputs": [],
   "source": [
    "ld['loan_status_derv']=ld['loan_status']\n",
    "ld['loan_status_derv'].replace(['Fully Paid', 'Charged Off'],[0,1], inplace=True)\n",
    "ld['loan_status_derv']=ld['loan_status_derv'].astype(int)"
   ]
  },
  {
   "cell_type": "code",
   "execution_count": 40,
   "id": "6ec071cf",
   "metadata": {},
   "outputs": [
    {
     "name": "stdout",
     "output_type": "stream",
     "text": [
      "<class 'pandas.core.frame.DataFrame'>\n",
      "Int64Index: 38577 entries, 0 to 39716\n",
      "Data columns (total 47 columns):\n",
      " #   Column                     Non-Null Count  Dtype         \n",
      "---  ------                     --------------  -----         \n",
      " 0   id                         38577 non-null  int64         \n",
      " 1   loan_amnt                  38577 non-null  int64         \n",
      " 2   funded_amnt                38577 non-null  int64         \n",
      " 3   funded_amnt_inv            38577 non-null  float64       \n",
      " 4   term                       38577 non-null  object        \n",
      " 5   int_rate                   38577 non-null  object        \n",
      " 6   installment                38577 non-null  float64       \n",
      " 7   grade                      38577 non-null  object        \n",
      " 8   sub_grade                  38577 non-null  object        \n",
      " 9   emp_length                 38577 non-null  object        \n",
      " 10  home_ownership             38577 non-null  object        \n",
      " 11  annual_inc                 38577 non-null  float64       \n",
      " 12  verification_status        38577 non-null  object        \n",
      " 13  issue_d                    38577 non-null  datetime64[ns]\n",
      " 14  loan_status                38577 non-null  object        \n",
      " 15  purpose                    38577 non-null  object        \n",
      " 16  addr_state                 38577 non-null  object        \n",
      " 17  dti                        38577 non-null  float64       \n",
      " 18  delinq_2yrs                38577 non-null  int64         \n",
      " 19  earliest_cr_line           38577 non-null  datetime64[ns]\n",
      " 20  inq_last_6mths             38577 non-null  int64         \n",
      " 21  open_acc                   38577 non-null  int64         \n",
      " 22  pub_rec                    38577 non-null  int64         \n",
      " 23  revol_bal                  38577 non-null  int64         \n",
      " 24  revol_util                 38577 non-null  object        \n",
      " 25  total_acc                  38577 non-null  int64         \n",
      " 26  out_prncp                  38577 non-null  float64       \n",
      " 27  out_prncp_inv              38577 non-null  float64       \n",
      " 28  total_pymnt                38577 non-null  float64       \n",
      " 29  total_pymnt_inv            38577 non-null  float64       \n",
      " 30  total_rec_prncp            38577 non-null  float64       \n",
      " 31  total_rec_int              38577 non-null  float64       \n",
      " 32  total_rec_late_fee         38577 non-null  float64       \n",
      " 33  recoveries                 38577 non-null  float64       \n",
      " 34  collection_recovery_fee    38577 non-null  float64       \n",
      " 35  last_pymnt_d               38506 non-null  object        \n",
      " 36  last_pymnt_amnt            38577 non-null  float64       \n",
      " 37  last_credit_pull_d         38575 non-null  object        \n",
      " 38  pub_rec_bankruptcies       38577 non-null  object        \n",
      " 39  pub_rec_bankruptcies_derv  38577 non-null  float64       \n",
      " 40  int_rate_derv              38577 non-null  float64       \n",
      " 41  emp_length_derv            38577 non-null  int64         \n",
      " 42  issue_d_yr                 38577 non-null  int64         \n",
      " 43  issue_d_mth                38577 non-null  object        \n",
      " 44  earliest_cr_line_yr        38577 non-null  int64         \n",
      " 45  earliest_cr_line_mth       38577 non-null  object        \n",
      " 46  loan_status_derv           38577 non-null  int32         \n",
      "dtypes: datetime64[ns](2), float64(16), int32(1), int64(12), object(16)\n",
      "memory usage: 14.0+ MB\n"
     ]
    }
   ],
   "source": [
    "ld.info()"
   ]
  },
  {
   "cell_type": "code",
   "execution_count": 41,
   "id": "a8d42451",
   "metadata": {},
   "outputs": [],
   "source": [
    "#Defining category columns to category data type\n",
    "ld.loan_status=ld.loan_status.astype('category')\n",
    "ld.purpose=ld.purpose.astype('category')\n",
    "ld.addr_state=ld.addr_state.astype('category')\n",
    "ld.home_ownership=ld.home_ownership.astype('category')\n",
    "ld.verification_status=ld.verification_status.astype('category')\n",
    "ld.grade=ld.grade.astype('category')"
   ]
  },
  {
   "cell_type": "code",
   "execution_count": 42,
   "id": "5d460327",
   "metadata": {},
   "outputs": [],
   "source": [
    "#Creating Annual Income categorical data\n",
    "cut_bins = [0, 5000, 10000, 20000, 30000, 50000, 75000, 100000, 200000, 300000, 500000, 800000, 1000000, 1500000, 2000000]\n",
    "cut_lables = ['0 - 5000', '5000 - 10000', '10000 - 20000', '20000 - 30000', '30000 - 50000', '50000 - 75000', '75000 - 100000', '100000 - 200000', '200000 - 300000', '300000 - 500000', '500000 - 800000', '800000 - 1000000', '1000000 - 1500000', ' > 1500000']\n",
    "ld['annual_inc_dive'] = pd.cut(x=ld['annual_inc'], bins = cut_bins, labels = cut_lables)"
   ]
  },
  {
   "cell_type": "code",
   "execution_count": 43,
   "id": "1af5fe09",
   "metadata": {},
   "outputs": [],
   "source": [
    "#Creating Interest Rate categorical data\n",
    "ld['int_rate_derv2'] = pd.cut(ld['int_rate_derv'], bins=5, precision=0, labels=['5%-9%','9%-13%','13%-17%','17%-21%','21%-24%'])"
   ]
  },
  {
   "cell_type": "code",
   "execution_count": 44,
   "id": "3aba6d00",
   "metadata": {},
   "outputs": [],
   "source": [
    "#Creating Loan Amount categorical data\n",
    "ld['funded_amnt_inv_dive'] = pd.cut(ld['funded_amnt_inv'], bins=7,labels=['0-5k','5k-10k','10k-15k','15k-20k','20k-25k','25k-30k','30k-35k'])\n",
    "ld['funded_amnt_dive'] = pd.cut(ld['funded_amnt_inv'], bins=7,labels=['0-5k','5k-10k','10k-15k','15k-20k','20k-25k','25k-30k','30k-35k'])\n",
    "ld['loan_amnt_dive'] = pd.cut(ld['loan_amnt'], bins=7,precision =0,labels=['0-5k','5k-10k','10k-15k','15k-20k','20k-25k','25k-30k','30k-35k'])"
   ]
  },
  {
   "cell_type": "code",
   "execution_count": 45,
   "id": "05c62742",
   "metadata": {},
   "outputs": [
    {
     "name": "stdout",
     "output_type": "stream",
     "text": [
      "<class 'pandas.core.frame.DataFrame'>\n",
      "Int64Index: 38577 entries, 0 to 39716\n",
      "Data columns (total 52 columns):\n",
      " #   Column                     Non-Null Count  Dtype         \n",
      "---  ------                     --------------  -----         \n",
      " 0   id                         38577 non-null  int64         \n",
      " 1   loan_amnt                  38577 non-null  int64         \n",
      " 2   funded_amnt                38577 non-null  int64         \n",
      " 3   funded_amnt_inv            38577 non-null  float64       \n",
      " 4   term                       38577 non-null  object        \n",
      " 5   int_rate                   38577 non-null  object        \n",
      " 6   installment                38577 non-null  float64       \n",
      " 7   grade                      38577 non-null  category      \n",
      " 8   sub_grade                  38577 non-null  object        \n",
      " 9   emp_length                 38577 non-null  object        \n",
      " 10  home_ownership             38577 non-null  category      \n",
      " 11  annual_inc                 38577 non-null  float64       \n",
      " 12  verification_status        38577 non-null  category      \n",
      " 13  issue_d                    38577 non-null  datetime64[ns]\n",
      " 14  loan_status                38577 non-null  category      \n",
      " 15  purpose                    38577 non-null  category      \n",
      " 16  addr_state                 38577 non-null  category      \n",
      " 17  dti                        38577 non-null  float64       \n",
      " 18  delinq_2yrs                38577 non-null  int64         \n",
      " 19  earliest_cr_line           38577 non-null  datetime64[ns]\n",
      " 20  inq_last_6mths             38577 non-null  int64         \n",
      " 21  open_acc                   38577 non-null  int64         \n",
      " 22  pub_rec                    38577 non-null  int64         \n",
      " 23  revol_bal                  38577 non-null  int64         \n",
      " 24  revol_util                 38577 non-null  object        \n",
      " 25  total_acc                  38577 non-null  int64         \n",
      " 26  out_prncp                  38577 non-null  float64       \n",
      " 27  out_prncp_inv              38577 non-null  float64       \n",
      " 28  total_pymnt                38577 non-null  float64       \n",
      " 29  total_pymnt_inv            38577 non-null  float64       \n",
      " 30  total_rec_prncp            38577 non-null  float64       \n",
      " 31  total_rec_int              38577 non-null  float64       \n",
      " 32  total_rec_late_fee         38577 non-null  float64       \n",
      " 33  recoveries                 38577 non-null  float64       \n",
      " 34  collection_recovery_fee    38577 non-null  float64       \n",
      " 35  last_pymnt_d               38506 non-null  object        \n",
      " 36  last_pymnt_amnt            38577 non-null  float64       \n",
      " 37  last_credit_pull_d         38575 non-null  object        \n",
      " 38  pub_rec_bankruptcies       38577 non-null  object        \n",
      " 39  pub_rec_bankruptcies_derv  38577 non-null  float64       \n",
      " 40  int_rate_derv              38577 non-null  float64       \n",
      " 41  emp_length_derv            38577 non-null  int64         \n",
      " 42  issue_d_yr                 38577 non-null  int64         \n",
      " 43  issue_d_mth                38577 non-null  object        \n",
      " 44  earliest_cr_line_yr        38577 non-null  int64         \n",
      " 45  earliest_cr_line_mth       38577 non-null  object        \n",
      " 46  loan_status_derv           38577 non-null  int32         \n",
      " 47  annual_inc_dive            38574 non-null  category      \n",
      " 48  int_rate_derv2             38577 non-null  category      \n",
      " 49  funded_amnt_inv_dive       38577 non-null  category      \n",
      " 50  funded_amnt_dive           38577 non-null  category      \n",
      " 51  loan_amnt_dive             38577 non-null  category      \n",
      "dtypes: category(11), datetime64[ns](2), float64(16), int32(1), int64(12), object(10)\n",
      "memory usage: 12.6+ MB\n"
     ]
    }
   ],
   "source": [
    "ld.info()"
   ]
  },
  {
   "cell_type": "code",
   "execution_count": 46,
   "id": "96c1400f",
   "metadata": {},
   "outputs": [
    {
     "data": {
      "text/plain": [
       "Index(['id', 'loan_amnt', 'funded_amnt', 'funded_amnt_inv', 'term', 'int_rate',\n",
       "       'installment', 'grade', 'sub_grade', 'emp_length', 'home_ownership',\n",
       "       'annual_inc', 'verification_status', 'issue_d', 'loan_status',\n",
       "       'purpose', 'addr_state', 'dti', 'delinq_2yrs', 'earliest_cr_line',\n",
       "       'inq_last_6mths', 'open_acc', 'pub_rec', 'revol_bal', 'revol_util',\n",
       "       'total_acc', 'out_prncp', 'out_prncp_inv', 'total_pymnt',\n",
       "       'total_pymnt_inv', 'total_rec_prncp', 'total_rec_int',\n",
       "       'total_rec_late_fee', 'recoveries', 'collection_recovery_fee',\n",
       "       'last_pymnt_d', 'last_pymnt_amnt', 'last_credit_pull_d',\n",
       "       'pub_rec_bankruptcies', 'pub_rec_bankruptcies_derv', 'int_rate_derv',\n",
       "       'emp_length_derv', 'issue_d_yr', 'issue_d_mth', 'earliest_cr_line_yr',\n",
       "       'earliest_cr_line_mth', 'loan_status_derv', 'annual_inc_dive',\n",
       "       'int_rate_derv2', 'funded_amnt_inv_dive', 'funded_amnt_dive',\n",
       "       'loan_amnt_dive'],\n",
       "      dtype='object')"
      ]
     },
     "execution_count": 46,
     "metadata": {},
     "output_type": "execute_result"
    }
   ],
   "source": [
    "ld.columns"
   ]
  },
  {
   "cell_type": "code",
   "execution_count": 47,
   "id": "f4044ec2",
   "metadata": {},
   "outputs": [
    {
     "data": {
      "text/plain": [
       "<AxesSubplot:xlabel='loan_amnt'>"
      ]
     },
     "execution_count": 47,
     "metadata": {},
     "output_type": "execute_result"
    },
    {
     "data": {
      "image/png": "[encoded data removed]",
      "text/plain": [
       "<Figure size 432x288 with 1 Axes>"
      ]
     },
     "metadata": {
      "needs_background": "light"
     },
     "output_type": "display_data"
    }
   ],
   "source": [
    "#Outliers for loan_amnt column\n",
    "sns.boxplot(ld['loan_amnt'])"
   ]
  },
  {
   "cell_type": "code",
   "execution_count": 48,
   "id": "fc30513c",
   "metadata": {},
   "outputs": [
    {
     "data": {
      "text/plain": [
       "0.750    15000.0\n",
       "0.900    21600.0\n",
       "0.950    25000.0\n",
       "0.970    28000.0\n",
       "0.975    30000.0\n",
       "0.980    30000.0\n",
       "0.990    35000.0\n",
       "1.000    35000.0\n",
       "Name: loan_amnt, dtype: float64"
      ]
     },
     "execution_count": 48,
     "metadata": {},
     "output_type": "execute_result"
    }
   ],
   "source": [
    "# Checking percentiles for loan_amnt\n",
    "ld.loan_amnt.quantile([0.75,0.90,0.95,0.97,0.975, 0.98, 0.99, 1.0])"
   ]
  },
  {
   "cell_type": "markdown",
   "id": "a6b0cb72",
   "metadata": {},
   "source": [
    "**Observation** \n",
    "- Data is continous, hence taking no action"
   ]
  },
  {
   "cell_type": "code",
   "execution_count": 49,
   "id": "9683603c",
   "metadata": {},
   "outputs": [
    {
     "data": {
      "text/plain": [
       "(5627, 52)"
      ]
     },
     "execution_count": 49,
     "metadata": {},
     "output_type": "execute_result"
    }
   ],
   "source": [
    "#Creating Dataframe for Charged Off loans only\n",
    "Charged_off_df=ld[ld.loan_status=='Charged Off']\n",
    "Charged_off_df.shape"
   ]
  },
  {
   "cell_type": "markdown",
   "id": "19a64931",
   "metadata": {},
   "source": [
    "## Univariate Analysis"
   ]
  },
  {
   "cell_type": "code",
   "execution_count": 50,
   "id": "59a726d6",
   "metadata": {},
   "outputs": [
    {
     "data": {
      "text/plain": [
       "<AxesSubplot:xlabel='loan_status', ylabel='count'>"
      ]
     },
     "execution_count": 50,
     "metadata": {},
     "output_type": "execute_result"
    },
    {
     "data": {
      "image/png": "[encoded data removed]",
      "text/plain": [
       "<Figure size 432x288 with 1 Axes>"
      ]
     },
     "metadata": {
      "needs_background": "light"
     },
     "output_type": "display_data"
    }
   ],
   "source": [
    "#Loan status\n",
    "sns.countplot(ld.loan_status)"
   ]
  },
  {
   "cell_type": "markdown",
   "id": "f35fdeb5",
   "metadata": {},
   "source": [
    "**Observation** \n",
    "- Fully Paid loans are high when compared to Charged Off loans"
   ]
  },
  {
   "cell_type": "code",
   "execution_count": 51,
   "id": "059f44f6",
   "metadata": {},
   "outputs": [],
   "source": [
    "#Loan status by Loan grade\n",
    "ld['loan_status'] = ld['loan_status'].apply(lambda x: 'Default' if x=='Charged Off' else 'Not Default')"
   ]
  },
  {
   "cell_type": "code",
   "execution_count": 52,
   "id": "871c4741",
   "metadata": {},
   "outputs": [],
   "source": [
    "ctab = pd.crosstab(ld['grade'], ld['loan_status'], normalize='index')"
   ]
  },
  {
   "cell_type": "code",
   "execution_count": 53,
   "id": "453c8517",
   "metadata": {
    "scrolled": false
   },
   "outputs": [
    {
     "data": {
      "image/png": "[encoded data removed]",
      "text/plain": [
       "<Figure size 432x288 with 1 Axes>"
      ]
     },
     "metadata": {
      "needs_background": "light"
     },
     "output_type": "display_data"
    }
   ],
   "source": [
    "ctab.plot(kind='bar', stacked=True)\n",
    "plt.xlabel('Loan Grade')\n",
    "plt.ylabel('Proportion')\n",
    "plt.title('Loan Status by Loan Grade')\n",
    "plt.show()"
   ]
  },
  {
   "cell_type": "markdown",
   "id": "9cab5ab1",
   "metadata": {},
   "source": [
    "**Observation**\n",
    "- Loan status indicates loan outcome and default risk, essential for identifying patterns, building models, and assessing portfolio performance. This chart shows the proportion of loans in each grade that are either defaulted or not defaulted and helps us understand how loan grade and loan status are related.Loans with lower grades have higher default rates, and loans with higher grades are more likely to be fully paid off."
   ]
  },
  {
   "cell_type": "code",
   "execution_count": 54,
   "id": "065d226e",
   "metadata": {},
   "outputs": [
    {
     "data": {
      "text/plain": [
       "<AxesSubplot:xlabel='loan_amnt', ylabel='Density'>"
      ]
     },
     "execution_count": 54,
     "metadata": {},
     "output_type": "execute_result"
    },
    {
     "data": {
      "image/png": "[encoded data removed]",
      "text/plain": [
       "<Figure size 432x288 with 1 Axes>"
      ]
     },
     "metadata": {
      "needs_background": "light"
     },
     "output_type": "display_data"
    }
   ],
   "source": [
    "#Loan Amount analysis\n",
    "sns.distplot(a=ld.loan_amnt, rug=True)"
   ]
  },
  {
   "cell_type": "code",
   "execution_count": 55,
   "id": "ac96ff8d",
   "metadata": {},
   "outputs": [
    {
     "data": {
      "text/plain": [
       "<AxesSubplot:xlabel='loan_amnt_dive', ylabel='count'>"
      ]
     },
     "execution_count": 55,
     "metadata": {},
     "output_type": "execute_result"
    },
    {
     "data": {
      "image/png": "[encoded data removed]",
      "text/plain": [
       "<Figure size 432x288 with 1 Axes>"
      ]
     },
     "metadata": {
      "needs_background": "light"
     },
     "output_type": "display_data"
    }
   ],
   "source": [
    "sns.countplot(x='loan_amnt_dive', data=ld)"
   ]
  },
  {
   "cell_type": "code",
   "execution_count": 56,
   "id": "17b5a9d4",
   "metadata": {},
   "outputs": [
    {
     "data": {
      "text/plain": [
       "Text(0.5, 1.0, 'Charged Off Loan Amount Analysis')"
      ]
     },
     "execution_count": 56,
     "metadata": {},
     "output_type": "execute_result"
    },
    {
     "data": {
      "image/png": "[encoded data removed]",
      "text/plain": [
       "<Figure size 432x288 with 1 Axes>"
      ]
     },
     "metadata": {},
     "output_type": "display_data"
    }
   ],
   "source": [
    "Charged_off_df['loan_amnt_dive'].value_counts().plot(kind='pie', autopct='%1.1f%%')\n",
    "plt.title('Charged Off Loan Amount Analysis')"
   ]
  },
  {
   "cell_type": "code",
   "execution_count": 57,
   "id": "d87572ab",
   "metadata": {},
   "outputs": [
    {
     "data": {
      "text/plain": [
       "count    38577.000000\n",
       "mean     11047.025430\n",
       "std       7348.441646\n",
       "min        500.000000\n",
       "25%       5300.000000\n",
       "50%       9600.000000\n",
       "75%      15000.000000\n",
       "max      35000.000000\n",
       "Name: loan_amnt, dtype: float64"
      ]
     },
     "execution_count": 57,
     "metadata": {},
     "output_type": "execute_result"
    }
   ],
   "source": [
    "ld.loan_amnt.describe()"
   ]
  },
  {
   "cell_type": "markdown",
   "id": "721c8141",
   "metadata": {},
   "source": [
    "**Observation** \n",
    "- Loan amount varies between 500-35k, with average of 9600\n",
    "- Majority of loan is provide for amount between 5k-10k\n",
    "- Charged off loan count is higher for loan amount between 5k-10k"
   ]
  },
  {
   "cell_type": "code",
   "execution_count": 58,
   "id": "77fd315d",
   "metadata": {},
   "outputs": [
    {
     "data": {
      "text/plain": [
       "Text(0.5, 1.0, 'Overall Interest Analysis')"
      ]
     },
     "execution_count": 58,
     "metadata": {},
     "output_type": "execute_result"
    },
    {
     "data": {
      "image/png": "[encoded data removed]",
      "text/plain": [
       "<Figure size 432x288 with 1 Axes>"
      ]
     },
     "metadata": {
      "needs_background": "light"
     },
     "output_type": "display_data"
    }
   ],
   "source": [
    "#int_rate Analysis\n",
    "sns.distplot(a=ld.int_rate_derv, rug=True)\n",
    "plt.title('Overall Interest Analysis')"
   ]
  },
  {
   "cell_type": "code",
   "execution_count": 88,
   "id": "f6eee65d",
   "metadata": {},
   "outputs": [
    {
     "data": {
      "text/plain": [
       "Text(0.5, 1.0, 'Charged Off - Interest Rate Analysis')"
      ]
     },
     "execution_count": 88,
     "metadata": {},
     "output_type": "execute_result"
    },
    {
     "data": {
      "image/png": "[encoded data removed]",
      "text/plain": [
       "<Figure size 432x288 with 1 Axes>"
      ]
     },
     "metadata": {},
     "output_type": "display_data"
    }
   ],
   "source": [
    "Charged_off_df['int_rate_derv2'].value_counts().plot(kind='pie', autopct='%1.1f%%')\n",
    "plt.title('Charged Off - Interest Rate Analysis')"
   ]
  },
  {
   "cell_type": "markdown",
   "id": "6f079d11",
   "metadata": {},
   "source": [
    "**Observation**\n",
    "- Overall Loan Data indicates the interest rate peaking at 10%\n",
    "- Around 50% of Charged Off Loans are in 13% - 21% interest rate range."
   ]
  },
  {
   "cell_type": "code",
   "execution_count": 60,
   "id": "b02cc5de",
   "metadata": {},
   "outputs": [
    {
     "data": {
      "text/plain": [
       "<AxesSubplot:xlabel='count', ylabel='purpose'>"
      ]
     },
     "execution_count": 60,
     "metadata": {},
     "output_type": "execute_result"
    },
    {
     "data": {
      "image/png": "[encoded data removed]",
      "text/plain": [
       "<Figure size 432x288 with 1 Axes>"
      ]
     },
     "metadata": {
      "needs_background": "light"
     },
     "output_type": "display_data"
    }
   ],
   "source": [
    "#Purpose of loan analysis\n",
    "sns.countplot(y=ld.purpose)"
   ]
  },
  {
   "cell_type": "code",
   "execution_count": 61,
   "id": "59522999",
   "metadata": {},
   "outputs": [
    {
     "data": {
      "text/plain": [
       "<AxesSubplot:xlabel='count', ylabel='purpose'>"
      ]
     },
     "execution_count": 61,
     "metadata": {},
     "output_type": "execute_result"
    },
    {
     "data": {
      "image/png": "[encoded data removed]",
      "text/plain": [
       "<Figure size 432x288 with 1 Axes>"
      ]
     },
     "metadata": {
      "needs_background": "light"
     },
     "output_type": "display_data"
    }
   ],
   "source": [
    "#Charged off loans\n",
    "sns.countplot(y=Charged_off_df.purpose)"
   ]
  },
  {
   "cell_type": "markdown",
   "id": "cc793535",
   "metadata": {},
   "source": [
    "**Observation**\n",
    "- Loans taken for Debt Consolidation purpose are major defaulters, followed for Credit Card & Other purpose. This is similar for Charged Off Loans too."
   ]
  },
  {
   "cell_type": "code",
   "execution_count": 62,
   "id": "8dbb87e4",
   "metadata": {},
   "outputs": [],
   "source": [
    "#Loan grade by purpose\n",
    "ctab = pd.crosstab(ld['purpose'], ld['grade'], normalize='index')"
   ]
  },
  {
   "cell_type": "code",
   "execution_count": 85,
   "id": "896781e8",
   "metadata": {
    "scrolled": true
   },
   "outputs": [
    {
     "data": {
      "image/png": "[encoded data removed]",
      "text/plain": [
       "<Figure size 432x288 with 1 Axes>"
      ]
     },
     "metadata": {
      "needs_background": "light"
     },
     "output_type": "display_data"
    }
   ],
   "source": [
    "ax = ctab.plot(kind='bar', stacked=True)\n",
    "ax.set_xlabel('Loan Purpose')\n",
    "ax.set_ylabel('Proportion')\n",
    "ax.set_title('Loan Grade by Purpose')\n",
    "ax.set_xticklabels(ax.get_xticklabels(), rotation=90, ha='right', fontsize=8)\n",
    "plt.subplots_adjust(bottom=0.2)\n",
    "ax.legend(loc='lower left', bbox_to_anchor=(1, 0), ncol=1)\n",
    "plt.show()"
   ]
  },
  {
   "cell_type": "markdown",
   "id": "d400f111",
   "metadata": {},
   "source": [
    "**The stacked bar chart shows the proportion of loans in each loan grade for each loan purpose, which helps us understand how loan purpose and loan grade are related. We can draw several conclusions from this chart:**\n",
    "- Debt consolidation is the most common loan purpose across all loan grades, while educational loans are the least common.\n",
    "- The proportion of loans for debt consolidation is highest in the A and B loan grades, while the proportion of loans for small   business and renewable energy is highest in the C and D loan grades.\n",
    "- The proportion of loans for credit card refinancing is highest in the E and F loan grades, while the proportion of loans for     home improvement is highest in the G loan grade.\n",
    "- The highest proportion of defaulted loans is in the D and E loan grades, with the highest default rates for small business and   renewable energy loans.\n",
    "\n",
    "**Based on these observations, we can make several recommendations to manage credit risk and reduce default rates:**\n",
    "- Lending companies should carefully assess the creditworthiness of borrowers before approving loans, particularly for higher-     risk loan purposes such as small business and renewable energy.\n",
    "- Companies can adjust their lending policies and interest rates based on the risk associated with different loan purposes and     grades to better manage credit risk and reduce default rates.\n",
    "- Lending companies should also monitor loan purpose data over time to identify trends and changes in customer demand and adjust   their offerings accordingly."
   ]
  },
  {
   "cell_type": "markdown",
   "id": "34e23b49",
   "metadata": {},
   "source": [
    "## Segmented Univariate Analysis"
   ]
  },
  {
   "cell_type": "code",
   "execution_count": 64,
   "id": "73a28abf",
   "metadata": {},
   "outputs": [
    {
     "name": "stdout",
     "output_type": "stream",
     "text": [
      "<class 'pandas.core.frame.DataFrame'>\n",
      "Int64Index: 38577 entries, 0 to 39716\n",
      "Data columns (total 52 columns):\n",
      " #   Column                     Non-Null Count  Dtype         \n",
      "---  ------                     --------------  -----         \n",
      " 0   id                         38577 non-null  int64         \n",
      " 1   loan_amnt                  38577 non-null  int64         \n",
      " 2   funded_amnt                38577 non-null  int64         \n",
      " 3   funded_amnt_inv            38577 non-null  float64       \n",
      " 4   term                       38577 non-null  object        \n",
      " 5   int_rate                   38577 non-null  object        \n",
      " 6   installment                38577 non-null  float64       \n",
      " 7   grade                      38577 non-null  category      \n",
      " 8   sub_grade                  38577 non-null  object        \n",
      " 9   emp_length                 38577 non-null  object        \n",
      " 10  home_ownership             38577 non-null  category      \n",
      " 11  annual_inc                 38577 non-null  float64       \n",
      " 12  verification_status        38577 non-null  category      \n",
      " 13  issue_d                    38577 non-null  datetime64[ns]\n",
      " 14  loan_status                38577 non-null  category      \n",
      " 15  purpose                    38577 non-null  category      \n",
      " 16  addr_state                 38577 non-null  category      \n",
      " 17  dti                        38577 non-null  float64       \n",
      " 18  delinq_2yrs                38577 non-null  int64         \n",
      " 19  earliest_cr_line           38577 non-null  datetime64[ns]\n",
      " 20  inq_last_6mths             38577 non-null  int64         \n",
      " 21  open_acc                   38577 non-null  int64         \n",
      " 22  pub_rec                    38577 non-null  int64         \n",
      " 23  revol_bal                  38577 non-null  int64         \n",
      " 24  revol_util                 38577 non-null  object        \n",
      " 25  total_acc                  38577 non-null  int64         \n",
      " 26  out_prncp                  38577 non-null  float64       \n",
      " 27  out_prncp_inv              38577 non-null  float64       \n",
      " 28  total_pymnt                38577 non-null  float64       \n",
      " 29  total_pymnt_inv            38577 non-null  float64       \n",
      " 30  total_rec_prncp            38577 non-null  float64       \n",
      " 31  total_rec_int              38577 non-null  float64       \n",
      " 32  total_rec_late_fee         38577 non-null  float64       \n",
      " 33  recoveries                 38577 non-null  float64       \n",
      " 34  collection_recovery_fee    38577 non-null  float64       \n",
      " 35  last_pymnt_d               38506 non-null  object        \n",
      " 36  last_pymnt_amnt            38577 non-null  float64       \n",
      " 37  last_credit_pull_d         38575 non-null  object        \n",
      " 38  pub_rec_bankruptcies       38577 non-null  object        \n",
      " 39  pub_rec_bankruptcies_derv  38577 non-null  float64       \n",
      " 40  int_rate_derv              38577 non-null  float64       \n",
      " 41  emp_length_derv            38577 non-null  int64         \n",
      " 42  issue_d_yr                 38577 non-null  int64         \n",
      " 43  issue_d_mth                38577 non-null  object        \n",
      " 44  earliest_cr_line_yr        38577 non-null  int64         \n",
      " 45  earliest_cr_line_mth       38577 non-null  object        \n",
      " 46  loan_status_derv           38577 non-null  int32         \n",
      " 47  annual_inc_dive            38574 non-null  category      \n",
      " 48  int_rate_derv2             38577 non-null  category      \n",
      " 49  funded_amnt_inv_dive       38577 non-null  category      \n",
      " 50  funded_amnt_dive           38577 non-null  category      \n",
      " 51  loan_amnt_dive             38577 non-null  category      \n",
      "dtypes: category(11), datetime64[ns](2), float64(16), int32(1), int64(12), object(10)\n",
      "memory usage: 13.6+ MB\n"
     ]
    }
   ],
   "source": [
    "ld.info()"
   ]
  },
  {
   "cell_type": "code",
   "execution_count": 65,
   "id": "8f1741e7",
   "metadata": {},
   "outputs": [
    {
     "data": {
      "text/plain": [
       "<AxesSubplot:xlabel='count', ylabel='term'>"
      ]
     },
     "execution_count": 65,
     "metadata": {},
     "output_type": "execute_result"
    },
    {
     "data": {
      "image/png": "[encoded data removed]",
      "text/plain": [
       "<Figure size 432x288 with 1 Axes>"
      ]
     },
     "metadata": {
      "needs_background": "light"
     },
     "output_type": "display_data"
    }
   ],
   "source": [
    "# Loan term vs Loan status\n",
    "sns.countplot(data=ld,y='term', hue='loan_status')"
   ]
  },
  {
   "cell_type": "markdown",
   "id": "d74d1d17",
   "metadata": {},
   "source": [
    "**Observation**\n",
    "- 60 months terms has higher number of defaulters"
   ]
  },
  {
   "cell_type": "code",
   "execution_count": 66,
   "id": "f1d03573",
   "metadata": {},
   "outputs": [
    {
     "data": {
      "image/png": "[encoded data removed]",
      "text/plain": [
       "<Figure size 432x288 with 1 Axes>"
      ]
     },
     "metadata": {
      "needs_background": "light"
     },
     "output_type": "display_data"
    }
   ],
   "source": [
    "#Employment length vs loan status\n",
    "sns.countplot(data=ld, x='emp_length', hue='loan_status')\n",
    "plt.xticks(rotation=45)\n",
    "plt.show()"
   ]
  },
  {
   "cell_type": "markdown",
   "id": "405a1f31",
   "metadata": {},
   "source": [
    "**Observation**\n",
    "- Employies with 10+ years of exp are mostly defaulters"
   ]
  },
  {
   "cell_type": "markdown",
   "id": "05275509",
   "metadata": {},
   "source": [
    "## Bivariate Analysis"
   ]
  },
  {
   "cell_type": "code",
   "execution_count": 81,
   "id": "d79f8e97",
   "metadata": {},
   "outputs": [
    {
     "data": {
      "image/png": "[encoded data removed]",
      "text/plain": [
       "<Figure size 720x360 with 1 Axes>"
      ]
     },
     "metadata": {
      "needs_background": "light"
     },
     "output_type": "display_data"
    }
   ],
   "source": [
    "#Loan amount and loan term vs Loan status\n",
    "plt.figure(figsize=(10,5))\n",
    "sns.boxplot(x='term', y='loan_amnt', hue='loan_status', data=ld)\n",
    "plt.legend(loc='center left', bbox_to_anchor=(1, 0.5))\n",
    "plt.show()"
   ]
  },
  {
   "cell_type": "markdown",
   "id": "d3b545e5",
   "metadata": {},
   "source": [
    "**Observation**\n",
    "- Most of the loans are approved for 60 month term\n",
    "- Loan defaulter are higher for 60 moth term"
   ]
  },
  {
   "cell_type": "code",
   "execution_count": 82,
   "id": "2958719d",
   "metadata": {},
   "outputs": [
    {
     "data": {
      "image/png": "[encoded data removed]",
      "text/plain": [
       "<Figure size 720x360 with 1 Axes>"
      ]
     },
     "metadata": {
      "needs_background": "light"
     },
     "output_type": "display_data"
    }
   ],
   "source": [
    "#term vs interest rate vs Loan status\n",
    "plt.figure(figsize=(10,5))\n",
    "sns.boxplot(x='term', y='int_rate_derv', hue='loan_status', data=ld)\n",
    "plt.legend(loc='center left', bbox_to_anchor=(1, 0.5))\n",
    "plt.show()"
   ]
  },
  {
   "cell_type": "code",
   "execution_count": 69,
   "id": "d5583a55",
   "metadata": {
    "collapsed": true
   },
   "outputs": [
    {
     "data": {
      "image/png": "[encoded data removed]",
      "text/plain": [
       "<Figure size 1440x576 with 1 Axes>"
      ]
     },
     "metadata": {
      "needs_background": "light"
     },
     "output_type": "display_data"
    }
   ],
   "source": [
    "#employment length vs loan amount vs loan status\n",
    "plt.figure(figsize=(20,8))\n",
    "sns.boxplot(x='emp_length', y='loan_amnt', hue='loan_status', data=ld)\n",
    "plt.show()"
   ]
  },
  {
   "cell_type": "code",
   "execution_count": 83,
   "id": "5fdfb636",
   "metadata": {},
   "outputs": [
    {
     "data": {
      "image/png": "[encoded data removed]",
      "text/plain": [
       "<Figure size 1440x576 with 1 Axes>"
      ]
     },
     "metadata": {
      "needs_background": "light"
     },
     "output_type": "display_data"
    }
   ],
   "source": [
    "#Home ownership vs loan amount vs loan status\n",
    "plt.figure(figsize=(20,8))\n",
    "sns.boxplot(x='home_ownership', y='loan_amnt', hue='loan_status', data=ld)\n",
    "plt.legend(loc='center left', bbox_to_anchor=(1, 0.5))\n",
    "plt.show()"
   ]
  },
  {
   "cell_type": "markdown",
   "id": "7a17d4ce",
   "metadata": {},
   "source": [
    "**Observation**\n",
    "- Loan applicants with mortgage have high loan amount\n",
    "- Loan applicants with mortgage have high defaulters"
   ]
  },
  {
   "cell_type": "markdown",
   "id": "95e747ad",
   "metadata": {},
   "source": [
    "## Correlation Analysis"
   ]
  },
  {
   "cell_type": "code",
   "execution_count": 71,
   "id": "d5aaac83",
   "metadata": {},
   "outputs": [
    {
     "name": "stdout",
     "output_type": "stream",
     "text": [
      "<class 'pandas.core.frame.DataFrame'>\n",
      "Int64Index: 38577 entries, 0 to 39716\n",
      "Data columns (total 52 columns):\n",
      " #   Column                     Non-Null Count  Dtype         \n",
      "---  ------                     --------------  -----         \n",
      " 0   id                         38577 non-null  int64         \n",
      " 1   loan_amnt                  38577 non-null  int64         \n",
      " 2   funded_amnt                38577 non-null  int64         \n",
      " 3   funded_amnt_inv            38577 non-null  float64       \n",
      " 4   term                       38577 non-null  object        \n",
      " 5   int_rate                   38577 non-null  object        \n",
      " 6   installment                38577 non-null  float64       \n",
      " 7   grade                      38577 non-null  category      \n",
      " 8   sub_grade                  38577 non-null  object        \n",
      " 9   emp_length                 38577 non-null  object        \n",
      " 10  home_ownership             38577 non-null  category      \n",
      " 11  annual_inc                 38577 non-null  float64       \n",
      " 12  verification_status        38577 non-null  category      \n",
      " 13  issue_d                    38577 non-null  datetime64[ns]\n",
      " 14  loan_status                38577 non-null  category      \n",
      " 15  purpose                    38577 non-null  category      \n",
      " 16  addr_state                 38577 non-null  category      \n",
      " 17  dti                        38577 non-null  float64       \n",
      " 18  delinq_2yrs                38577 non-null  int64         \n",
      " 19  earliest_cr_line           38577 non-null  datetime64[ns]\n",
      " 20  inq_last_6mths             38577 non-null  int64         \n",
      " 21  open_acc                   38577 non-null  int64         \n",
      " 22  pub_rec                    38577 non-null  int64         \n",
      " 23  revol_bal                  38577 non-null  int64         \n",
      " 24  revol_util                 38577 non-null  object        \n",
      " 25  total_acc                  38577 non-null  int64         \n",
      " 26  out_prncp                  38577 non-null  float64       \n",
      " 27  out_prncp_inv              38577 non-null  float64       \n",
      " 28  total_pymnt                38577 non-null  float64       \n",
      " 29  total_pymnt_inv            38577 non-null  float64       \n",
      " 30  total_rec_prncp            38577 non-null  float64       \n",
      " 31  total_rec_int              38577 non-null  float64       \n",
      " 32  total_rec_late_fee         38577 non-null  float64       \n",
      " 33  recoveries                 38577 non-null  float64       \n",
      " 34  collection_recovery_fee    38577 non-null  float64       \n",
      " 35  last_pymnt_d               38506 non-null  object        \n",
      " 36  last_pymnt_amnt            38577 non-null  float64       \n",
      " 37  last_credit_pull_d         38575 non-null  object        \n",
      " 38  pub_rec_bankruptcies       38577 non-null  object        \n",
      " 39  pub_rec_bankruptcies_derv  38577 non-null  float64       \n",
      " 40  int_rate_derv              38577 non-null  float64       \n",
      " 41  emp_length_derv            38577 non-null  int64         \n",
      " 42  issue_d_yr                 38577 non-null  int64         \n",
      " 43  issue_d_mth                38577 non-null  object        \n",
      " 44  earliest_cr_line_yr        38577 non-null  int64         \n",
      " 45  earliest_cr_line_mth       38577 non-null  object        \n",
      " 46  loan_status_derv           38577 non-null  int32         \n",
      " 47  annual_inc_dive            38574 non-null  category      \n",
      " 48  int_rate_derv2             38577 non-null  category      \n",
      " 49  funded_amnt_inv_dive       38577 non-null  category      \n",
      " 50  funded_amnt_dive           38577 non-null  category      \n",
      " 51  loan_amnt_dive             38577 non-null  category      \n",
      "dtypes: category(11), datetime64[ns](2), float64(16), int32(1), int64(12), object(10)\n",
      "memory usage: 13.6+ MB\n"
     ]
    }
   ],
   "source": [
    "ld.info()"
   ]
  },
  {
   "cell_type": "code",
   "execution_count": 72,
   "id": "519b2200",
   "metadata": {},
   "outputs": [
    {
     "data": {
      "text/plain": [
       "<AxesSubplot:>"
      ]
     },
     "execution_count": 72,
     "metadata": {},
     "output_type": "execute_result"
    },
    {
     "data": {
      "image/png": "[encoded data removed]",
      "text/plain": [
       "<Figure size 1440x720 with 2 Axes>"
      ]
     },
     "metadata": {
      "needs_background": "light"
     },
     "output_type": "display_data"
    }
   ],
   "source": [
    "plt.figure(figsize=(20,10))\n",
    "corr_df = ld[['loan_amnt','funded_amnt_inv','annual_inc', 'dti', 'installment','pub_rec','pub_rec_bankruptcies_derv', 'emp_length_derv','open_acc','int_rate_derv', 'loan_status_derv']]\n",
    "sns.heatmap(corr_df.corr(), annot=True)"
   ]
  },
  {
   "cell_type": "markdown",
   "id": "7d6901c1",
   "metadata": {},
   "source": [
    "**Observation**\n",
    "- Highest positive correlation between loan_amnt, funded_amnt_inv and installment\n",
    "- Negative correlation is betwee annual_inc and dti"
   ]
  },
  {
   "cell_type": "markdown",
   "id": "7fd21e0e",
   "metadata": {},
   "source": [
    "## Observation Summary:"
   ]
  },
  {
   "cell_type": "markdown",
   "id": "789611bd",
   "metadata": {},
   "source": [
    "#### Univariate Analysis\n",
    "- More than 70% of the loans are sanctioned for the term of 60 Months\n",
    "- Loan Amount varies from 500 to 35K and approx.. 80% of the loans are sanctioned for loan amount in range of 500 – 15K\n",
    "- 73% of loans defaulted are in the loan amount range of 500 – 15K.\n",
    "- Around 50% of Charged Off Loans are in 13% - 21% interest rate range.\n",
    "- Loans taken for Debt Consolidation purpose are major defaulters, followed for Credit Card & Other purpose. This is similar for Charged Off Loans too."
   ]
  },
  {
   "cell_type": "markdown",
   "id": "6937e6c2",
   "metadata": {},
   "source": [
    "#### Segmented Univariate Analysis\n",
    "- 60 months terms has higher number of defaulters\n",
    "- Applicants with employement length of 10+ years are mostly defaulters"
   ]
  },
  {
   "cell_type": "markdown",
   "id": "52e41f74",
   "metadata": {},
   "source": [
    "#### Bivariate Analysis\n",
    "- Interest Rate for Charged Off Loans is higher than the Fully Paid loans for both 36 months and 60 months term. Indicates that loans with higher interest rate are more likely to be defaulted.\n",
    "- Loan applicants with mortgage have high loan amount\n",
    "- Loan applicants with mortgage have high defaulters"
   ]
  },
  {
   "attachments": {},
   "cell_type": "markdown",
   "id": "64ba791c",
   "metadata": {},
   "source": [
    "#### Correlation Analysis\n",
    "The heatmap shows the correlation between various loan factors such as loan amount, annual income, interest rate, and loan status. It suggests that loan amount, installment, and annual income have a positive correlation, while interest rate and DTI have a negative correlation with loan status. This can help in identifying factors that affect loan approval and in making lending decisions."
   ]
  },
  {
   "cell_type": "markdown",
   "id": "a115f8a3",
   "metadata": {},
   "source": [
    "#### Recommendations\n",
    "##### The Probability of defaulting is high when:\n",
    "- Loan Applicants not owing home (Mortgage or Rent) and have high Annual Income Range (60K - 70K)\n",
    "- Loans with interest rates between 9% - 17%\n",
    "- Applicants with Annual Income range between 35k - 70k and availing loan for Debt Consolidation.\n",
    "- Loan Applicants with >10 years of experience and with loan amount > 10K or with interest rate (>10%)\n",
    "\n",
    "##### Indecators for loan defaulters\n",
    "- Annual Income, Home Ownership, Purpose of Loan, Loan Amount, Interest Rate"
   ]
  },
  {
   "cell_type": "code",
   "execution_count": null,
   "id": "ec68b9db",
   "metadata": {},
   "outputs": [],
   "source": []
  }
 ],
 "metadata": {
  "kernelspec": {
   "display_name": "Python 3 (ipykernel)",
   "language": "python",
   "name": "python3"
  },
  "language_info": {
   "codemirror_mode": {
    "name": "ipython",
    "version": 3
   },
   "file_extension": ".py",
   "mimetype": "text/x-python",
   "name": "python",
   "nbconvert_exporter": "python",
   "pygments_lexer": "ipython3",
   "version": "3.9.7"
  }
 },
 "nbformat": 4,
 "nbformat_minor": 5
}
